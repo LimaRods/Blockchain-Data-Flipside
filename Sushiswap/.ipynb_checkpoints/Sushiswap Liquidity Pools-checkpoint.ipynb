{
 "cells": [
  {
   "cell_type": "code",
   "execution_count": 2,
   "metadata": {},
   "outputs": [
    {
     "data": {
      "text/html": [
       "<style>.container { width:100% !important; }</style>"
      ],
      "text/plain": [
       "<IPython.core.display.HTML object>"
      ]
     },
     "metadata": {},
     "output_type": "display_data"
    }
   ],
   "source": [
    "import pandas as pd\n",
    "import re\n",
    "import time\n",
    "from selenium import webdriver\n",
    "from selenium.webdriver.common.keys import Keys\n",
    "from selenium.webdriver.support.ui import WebDriverWait\n",
    "from selenium.webdriver.common.action_chains import ActionChains\n",
    "from selenium.webdriver.support import expected_conditions as EC\n",
    "from selenium.webdriver.common.by import By\n",
    "from IPython.core.display import display, HTML\n",
    "display(HTML(\"<style>.container { width:100% !important; }</style>\"))"
   ]
  },
  {
   "cell_type": "markdown",
   "metadata": {},
   "source": [
    "## Sushi Pairs on Avalanche and BSC"
   ]
  },
  {
   "cell_type": "markdown",
   "metadata": {},
   "source": [
    " 1. Create a document that includes all addresses for all Swap pairs on **Avalanche** and **BSC** for sushi, plus the addresses of the two tokens belonging to each pair."
   ]
  },
  {
   "cell_type": "markdown",
   "metadata": {},
   "source": [
    "### 1.1 Swap Pairs on BSC for Sushi "
   ]
  },
  {
   "cell_type": "code",
   "execution_count": 14,
   "metadata": {},
   "outputs": [
    {
     "ename": "NameError",
     "evalue": "name 'html' is not defined",
     "output_type": "error",
     "traceback": [
      "\u001b[1;31m---------------------------------------------------------------------------\u001b[0m",
      "\u001b[1;31mNameError\u001b[0m                                 Traceback (most recent call last)",
      "\u001b[1;32m<ipython-input-14-382fc3e6fd91>\u001b[0m in \u001b[0;36m<module>\u001b[1;34m\u001b[0m\n\u001b[1;32m----> 1\u001b[1;33m \u001b[0mhtml\u001b[0m\u001b[1;33m/\u001b[0m\u001b[0mbody\u001b[0m\u001b[1;33m/\u001b[0m\u001b[0mdiv\u001b[0m\u001b[1;33m[\u001b[0m\u001b[1;36m1\u001b[0m\u001b[1;33m]\u001b[0m\u001b[1;33m/\u001b[0m\u001b[0mdiv\u001b[0m\u001b[1;33m/\u001b[0m\u001b[0mmain\u001b[0m\u001b[1;33m/\u001b[0m\u001b[0mmain\u001b[0m\u001b[1;33m/\u001b[0m\u001b[0mdiv\u001b[0m\u001b[1;33m/\u001b[0m\u001b[0mdiv\u001b[0m\u001b[1;33m/\u001b[0m\u001b[0mdiv\u001b[0m\u001b[1;33m[\u001b[0m\u001b[1;36m2\u001b[0m\u001b[1;33m]\u001b[0m\u001b[1;33m/\u001b[0m\u001b[0mdiv\u001b[0m\u001b[1;33m[\u001b[0m\u001b[1;36m2\u001b[0m\u001b[1;33m]\u001b[0m\u001b[1;33m/\u001b[0m\u001b[0mtable\u001b[0m\u001b[1;33m/\u001b[0m\u001b[0mtbody\u001b[0m\u001b[1;33m/\u001b[0m\u001b[0mtr\u001b[0m\u001b[1;33m[\u001b[0m\u001b[1;36m1\u001b[0m\u001b[1;33m]\u001b[0m\u001b[1;33m(\u001b[0m\u001b[1;33m)\u001b[0m\u001b[1;33m\u001b[0m\u001b[1;33m\u001b[0m\u001b[0m\n\u001b[0m",
      "\u001b[1;31mNameError\u001b[0m: name 'html' is not defined"
     ]
    }
   ],
   "source": [
    "/html/body/div[1]/div/main/main/div/div/div[2]/div[2]/table/tbody/tr[1]"
   ]
  },
  {
   "cell_type": "code",
   "execution_count": null,
   "metadata": {},
   "outputs": [],
   "source": []
  },
  {
   "cell_type": "code",
   "execution_count": null,
   "metadata": {},
   "outputs": [],
   "source": [
    "//*[@id=\"__next\"]/div/main/main/div/div/div[2]/div[2]/table/tbody/tr[1]"
   ]
  },
  {
   "cell_type": "code",
   "execution_count": null,
   "metadata": {},
   "outputs": [],
   "source": [
    "//*[@id=\"__next\"]/div/main/main/div/div/div[2]/div[2]/table/tbody/tr[1]"
   ]
  },
  {
   "cell_type": "code",
   "execution_count": null,
   "metadata": {},
   "outputs": [],
   "source": [
    "//*[@id=\"__next\"]/div/main/main/div/div/div[2]/div[2]/table/tbody"
   ]
  },
  {
   "cell_type": "code",
   "execution_count": null,
   "metadata": {},
   "outputs": [],
   "source": [
    "range(1,171)"
   ]
  },
  {
   "cell_type": "code",
   "execution_count": 95,
   "metadata": {},
   "outputs": [
    {
     "name": "stdout",
     "output_type": "stream",
     "text": [
      "Starting Web Scrapping\n",
      "USDT added to the dataframe\n",
      "WBNB added to the dataframe\n",
      "PDT added to the dataframe\n",
      "WBNB added to the dataframe\n",
      "BW3 added to the dataframe\n",
      "ICE added to the dataframe\n",
      "WBNB added to the dataframe\n",
      "WBNB added to the dataframe\n",
      "WBNB added to the dataframe\n"
     ]
    },
    {
     "ename": "NoSuchElementException",
     "evalue": "Message: no such element: Unable to locate element: {\"method\":\"xpath\",\"selector\":\"/html/body/div/div/main/main/div/div/div[2]/div[3]/svg[2]\"}\n  (Session info: chrome=103.0.5060.134)\nStacktrace:\nBacktrace:\n\tOrdinal0 [0x00C45FD3+2187219]\n\tOrdinal0 [0x00BDE6D1+1763025]\n\tOrdinal0 [0x00AF3E78+802424]\n\tOrdinal0 [0x00B21C10+990224]\n\tOrdinal0 [0x00B21EAB+990891]\n\tOrdinal0 [0x00B4EC92+1174674]\n\tOrdinal0 [0x00B3CBD4+1100756]\n\tOrdinal0 [0x00B4CFC2+1167298]\n\tOrdinal0 [0x00B3C9A6+1100198]\n\tOrdinal0 [0x00B16F80+946048]\n\tOrdinal0 [0x00B17E76+949878]\n\tGetHandleVerifier [0x00EE90C2+2721218]\n\tGetHandleVerifier [0x00EDAAF0+2662384]\n\tGetHandleVerifier [0x00CD137A+526458]\n\tGetHandleVerifier [0x00CD0416+522518]\n\tOrdinal0 [0x00BE4EAB+1789611]\n\tOrdinal0 [0x00BE97A8+1808296]\n\tOrdinal0 [0x00BE9895+1808533]\n\tOrdinal0 [0x00BF26C1+1844929]\n\tBaseThreadInitThunk [0x7690FA29+25]\n\tRtlGetAppContainerNamedObjectPath [0x77C37A9E+286]\n\tRtlGetAppContainerNamedObjectPath [0x77C37A6E+238]\n",
     "output_type": "error",
     "traceback": [
      "\u001b[1;31m---------------------------------------------------------------------------\u001b[0m",
      "\u001b[1;31mNoSuchElementException\u001b[0m                    Traceback (most recent call last)",
      "\u001b[1;32m<ipython-input-95-ad411ffa8135>\u001b[0m in \u001b[0;36m<module>\u001b[1;34m\u001b[0m\n\u001b[0;32m     45\u001b[0m \u001b[1;33m\u001b[0m\u001b[0m\n\u001b[0;32m     46\u001b[0m \u001b[1;31m#Next page\u001b[0m\u001b[1;33m\u001b[0m\u001b[1;33m\u001b[0m\u001b[1;33m\u001b[0m\u001b[0m\n\u001b[1;32m---> 47\u001b[1;33m \u001b[0mdriver\u001b[0m\u001b[1;33m.\u001b[0m\u001b[0mfind_element\u001b[0m\u001b[1;33m(\u001b[0m\u001b[0mBy\u001b[0m\u001b[1;33m.\u001b[0m\u001b[0mXPATH\u001b[0m\u001b[1;33m,\u001b[0m \u001b[1;34m'/html/body/div/div/main/main/div/div/div[2]/div[3]/svg[2]'\u001b[0m\u001b[1;33m)\u001b[0m\u001b[1;33m.\u001b[0m\u001b[0mclick\u001b[0m\u001b[1;33m(\u001b[0m\u001b[1;33m)\u001b[0m\u001b[1;33m\u001b[0m\u001b[1;33m\u001b[0m\u001b[0m\n\u001b[0m\u001b[0;32m     48\u001b[0m \u001b[1;31m#driver.close()\u001b[0m\u001b[1;33m\u001b[0m\u001b[1;33m\u001b[0m\u001b[1;33m\u001b[0m\u001b[0m\n\u001b[0;32m     49\u001b[0m \u001b[0mprint\u001b[0m\u001b[1;33m(\u001b[0m\u001b[1;34m'Web Scrapping Process ended'\u001b[0m\u001b[1;33m)\u001b[0m\u001b[1;33m\u001b[0m\u001b[1;33m\u001b[0m\u001b[0m\n",
      "\u001b[1;32m~\\Anaconda3\\lib\\site-packages\\selenium\\webdriver\\remote\\webdriver.py\u001b[0m in \u001b[0;36mfind_element\u001b[1;34m(self, by, value)\u001b[0m\n\u001b[0;32m   1244\u001b[0m         return self.execute(Command.FIND_ELEMENT, {\n\u001b[0;32m   1245\u001b[0m             \u001b[1;34m'using'\u001b[0m\u001b[1;33m:\u001b[0m \u001b[0mby\u001b[0m\u001b[1;33m,\u001b[0m\u001b[1;33m\u001b[0m\u001b[1;33m\u001b[0m\u001b[0m\n\u001b[1;32m-> 1246\u001b[1;33m             'value': value})['value']\n\u001b[0m\u001b[0;32m   1247\u001b[0m \u001b[1;33m\u001b[0m\u001b[0m\n\u001b[0;32m   1248\u001b[0m     \u001b[1;32mdef\u001b[0m \u001b[0mfind_elements\u001b[0m\u001b[1;33m(\u001b[0m\u001b[0mself\u001b[0m\u001b[1;33m,\u001b[0m \u001b[0mby\u001b[0m\u001b[1;33m=\u001b[0m\u001b[0mBy\u001b[0m\u001b[1;33m.\u001b[0m\u001b[0mID\u001b[0m\u001b[1;33m,\u001b[0m \u001b[0mvalue\u001b[0m\u001b[1;33m=\u001b[0m\u001b[1;32mNone\u001b[0m\u001b[1;33m)\u001b[0m \u001b[1;33m->\u001b[0m \u001b[0mList\u001b[0m\u001b[1;33m[\u001b[0m\u001b[0mWebElement\u001b[0m\u001b[1;33m]\u001b[0m\u001b[1;33m:\u001b[0m\u001b[1;33m\u001b[0m\u001b[1;33m\u001b[0m\u001b[0m\n",
      "\u001b[1;32m~\\Anaconda3\\lib\\site-packages\\selenium\\webdriver\\remote\\webdriver.py\u001b[0m in \u001b[0;36mexecute\u001b[1;34m(self, driver_command, params)\u001b[0m\n\u001b[0;32m    422\u001b[0m         \u001b[0mresponse\u001b[0m \u001b[1;33m=\u001b[0m \u001b[0mself\u001b[0m\u001b[1;33m.\u001b[0m\u001b[0mcommand_executor\u001b[0m\u001b[1;33m.\u001b[0m\u001b[0mexecute\u001b[0m\u001b[1;33m(\u001b[0m\u001b[0mdriver_command\u001b[0m\u001b[1;33m,\u001b[0m \u001b[0mparams\u001b[0m\u001b[1;33m)\u001b[0m\u001b[1;33m\u001b[0m\u001b[1;33m\u001b[0m\u001b[0m\n\u001b[0;32m    423\u001b[0m         \u001b[1;32mif\u001b[0m \u001b[0mresponse\u001b[0m\u001b[1;33m:\u001b[0m\u001b[1;33m\u001b[0m\u001b[1;33m\u001b[0m\u001b[0m\n\u001b[1;32m--> 424\u001b[1;33m             \u001b[0mself\u001b[0m\u001b[1;33m.\u001b[0m\u001b[0merror_handler\u001b[0m\u001b[1;33m.\u001b[0m\u001b[0mcheck_response\u001b[0m\u001b[1;33m(\u001b[0m\u001b[0mresponse\u001b[0m\u001b[1;33m)\u001b[0m\u001b[1;33m\u001b[0m\u001b[1;33m\u001b[0m\u001b[0m\n\u001b[0m\u001b[0;32m    425\u001b[0m             response['value'] = self._unwrap_value(\n\u001b[0;32m    426\u001b[0m                 response.get('value', None))\n",
      "\u001b[1;32m~\\Anaconda3\\lib\\site-packages\\selenium\\webdriver\\remote\\errorhandler.py\u001b[0m in \u001b[0;36mcheck_response\u001b[1;34m(self, response)\u001b[0m\n\u001b[0;32m    245\u001b[0m                 \u001b[0malert_text\u001b[0m \u001b[1;33m=\u001b[0m \u001b[0mvalue\u001b[0m\u001b[1;33m[\u001b[0m\u001b[1;34m'alert'\u001b[0m\u001b[1;33m]\u001b[0m\u001b[1;33m.\u001b[0m\u001b[0mget\u001b[0m\u001b[1;33m(\u001b[0m\u001b[1;34m'text'\u001b[0m\u001b[1;33m)\u001b[0m\u001b[1;33m\u001b[0m\u001b[1;33m\u001b[0m\u001b[0m\n\u001b[0;32m    246\u001b[0m             \u001b[1;32mraise\u001b[0m \u001b[0mexception_class\u001b[0m\u001b[1;33m(\u001b[0m\u001b[0mmessage\u001b[0m\u001b[1;33m,\u001b[0m \u001b[0mscreen\u001b[0m\u001b[1;33m,\u001b[0m \u001b[0mstacktrace\u001b[0m\u001b[1;33m,\u001b[0m \u001b[0malert_text\u001b[0m\u001b[1;33m)\u001b[0m  \u001b[1;31m# type: ignore[call-arg]  # mypy is not smart enough here\u001b[0m\u001b[1;33m\u001b[0m\u001b[1;33m\u001b[0m\u001b[0m\n\u001b[1;32m--> 247\u001b[1;33m         \u001b[1;32mraise\u001b[0m \u001b[0mexception_class\u001b[0m\u001b[1;33m(\u001b[0m\u001b[0mmessage\u001b[0m\u001b[1;33m,\u001b[0m \u001b[0mscreen\u001b[0m\u001b[1;33m,\u001b[0m \u001b[0mstacktrace\u001b[0m\u001b[1;33m)\u001b[0m\u001b[1;33m\u001b[0m\u001b[1;33m\u001b[0m\u001b[0m\n\u001b[0m\u001b[0;32m    248\u001b[0m \u001b[1;33m\u001b[0m\u001b[0m\n\u001b[0;32m    249\u001b[0m     \u001b[1;32mdef\u001b[0m \u001b[0m_value_or_default\u001b[0m\u001b[1;33m(\u001b[0m\u001b[0mself\u001b[0m\u001b[1;33m,\u001b[0m \u001b[0mobj\u001b[0m\u001b[1;33m:\u001b[0m \u001b[0mMapping\u001b[0m\u001b[1;33m[\u001b[0m\u001b[0m_KT\u001b[0m\u001b[1;33m,\u001b[0m \u001b[0m_VT\u001b[0m\u001b[1;33m]\u001b[0m\u001b[1;33m,\u001b[0m \u001b[0mkey\u001b[0m\u001b[1;33m:\u001b[0m \u001b[0m_KT\u001b[0m\u001b[1;33m,\u001b[0m \u001b[0mdefault\u001b[0m\u001b[1;33m:\u001b[0m \u001b[0m_VT\u001b[0m\u001b[1;33m)\u001b[0m \u001b[1;33m->\u001b[0m \u001b[0m_VT\u001b[0m\u001b[1;33m:\u001b[0m\u001b[1;33m\u001b[0m\u001b[1;33m\u001b[0m\u001b[0m\n",
      "\u001b[1;31mNoSuchElementException\u001b[0m: Message: no such element: Unable to locate element: {\"method\":\"xpath\",\"selector\":\"/html/body/div/div/main/main/div/div/div[2]/div[3]/svg[2]\"}\n  (Session info: chrome=103.0.5060.134)\nStacktrace:\nBacktrace:\n\tOrdinal0 [0x00C45FD3+2187219]\n\tOrdinal0 [0x00BDE6D1+1763025]\n\tOrdinal0 [0x00AF3E78+802424]\n\tOrdinal0 [0x00B21C10+990224]\n\tOrdinal0 [0x00B21EAB+990891]\n\tOrdinal0 [0x00B4EC92+1174674]\n\tOrdinal0 [0x00B3CBD4+1100756]\n\tOrdinal0 [0x00B4CFC2+1167298]\n\tOrdinal0 [0x00B3C9A6+1100198]\n\tOrdinal0 [0x00B16F80+946048]\n\tOrdinal0 [0x00B17E76+949878]\n\tGetHandleVerifier [0x00EE90C2+2721218]\n\tGetHandleVerifier [0x00EDAAF0+2662384]\n\tGetHandleVerifier [0x00CD137A+526458]\n\tGetHandleVerifier [0x00CD0416+522518]\n\tOrdinal0 [0x00BE4EAB+1789611]\n\tOrdinal0 [0x00BE97A8+1808296]\n\tOrdinal0 [0x00BE9895+1808533]\n\tOrdinal0 [0x00BF26C1+1844929]\n\tBaseThreadInitThunk [0x7690FA29+25]\n\tRtlGetAppContainerNamedObjectPath [0x77C37A9E+286]\n\tRtlGetAppContainerNamedObjectPath [0x77C37A6E+238]\n"
     ]
    }
   ],
   "source": [
    "#DataFrame to Store the data\n",
    "fields = ['POOL_NAME', 'SYMBOL_0', 'SYMBOL_1','POOL_ADDRESS', 'TOKEN_0', 'TOKEN_1']\n",
    "df = pd.DataFrame(columns =  fields )\n",
    "\n",
    "#Web Scrapping\n",
    "print('Starting Web Scrapping')\n",
    "driver = webdriver.Chrome(\"chromedriver\")\n",
    "driver.get(\"https://app.sushi.com/analytics/pools?chainId=56\")\n",
    "\n",
    "#Looping through items  in the same page\n",
    "for page in range(1,171):\n",
    "print('Page {}'.format(page))\n",
    "#Looping through items  in the same page\n",
    "for LP in range(1,10):\n",
    "    try:\n",
    "        time.sleep(3)\n",
    "        driver.find_element(By.XPATH,\"\"\"/html/body/div/div/main/main/div/div/div[2]/div[2]/table/tbody/tr[{}]\"\"\".format(LP)).click()\n",
    "\n",
    "        time.sleep(1)\n",
    "        #Collect LP and Token Name\n",
    "        names = []\n",
    "        for i in range(1,4):\n",
    "            name = driver.find_element(By.XPATH,\"/html/body/div[1]/div/main/main/div/div/div[7]/div/table/thead/tr/th[{}]\".format(i)).text\n",
    "            names.append(name.split('Address')[0].strip())\n",
    "\n",
    "        #Collect LP and Token addresses\n",
    "        addresses = []\n",
    "        for i in range(1,4):\n",
    "            address = driver.find_element(By.XPATH,\"/html/body/div/div/main/main/div/div/div[7]/div/table/tbody/tr/td[{}]\".format(i)).text\n",
    "            addresses.append(address.strip())\n",
    "        #Append data to the dataset\n",
    "        row = names + addresses\n",
    "        df =df.append(dict(zip(fields,row)), ignore_index = True)\n",
    "        print(name.split('Address')[0].strip() + ' added to the dataframe')\n",
    "        \n",
    "        #Move backward in the browser\n",
    "        driver.back()\n",
    "        time.sleep(2)\n",
    "        \n",
    "    except Exception as e:\n",
    "        print(e)\n",
    "        #Move backward in the browser\n",
    "        driver.back()\n",
    "        #time.sleep(2)\n",
    "\n",
    "#Next page\n",
    "driver.find_element(By.XPATH, '/html/body/div/div/main/main/div/div/div[2]/div[3]/svg[2]').click()\n",
    "#driver.close()\n",
    "print('Web Scrapping Process ended')"
   ]
  },
  {
   "cell_type": "code",
   "execution_count": 6,
   "metadata": {},
   "outputs": [
    {
     "ename": "TimeoutException",
     "evalue": "Message: \nStacktrace:\nBacktrace:\n\tOrdinal0 [0x00C45FD3+2187219]\n\tOrdinal0 [0x00BDE6D1+1763025]\n\tOrdinal0 [0x00AF3E78+802424]\n\tOrdinal0 [0x00B21C10+990224]\n\tOrdinal0 [0x00B21EAB+990891]\n\tOrdinal0 [0x00B4EC92+1174674]\n\tOrdinal0 [0x00B3CBD4+1100756]\n\tOrdinal0 [0x00B4CFC2+1167298]\n\tOrdinal0 [0x00B3C9A6+1100198]\n\tOrdinal0 [0x00B16F80+946048]\n\tOrdinal0 [0x00B17E76+949878]\n\tGetHandleVerifier [0x00EE90C2+2721218]\n\tGetHandleVerifier [0x00EDAAF0+2662384]\n\tGetHandleVerifier [0x00CD137A+526458]\n\tGetHandleVerifier [0x00CD0416+522518]\n\tOrdinal0 [0x00BE4EAB+1789611]\n\tOrdinal0 [0x00BE97A8+1808296]\n\tOrdinal0 [0x00BE9895+1808533]\n\tOrdinal0 [0x00BF26C1+1844929]\n\tBaseThreadInitThunk [0x7690FA29+25]\n\tRtlGetAppContainerNamedObjectPath [0x77C37A9E+286]\n\tRtlGetAppContainerNamedObjectPath [0x77C37A6E+238]\n",
     "output_type": "error",
     "traceback": [
      "\u001b[1;31m---------------------------------------------------------------------------\u001b[0m",
      "\u001b[1;31mTimeoutException\u001b[0m                          Traceback (most recent call last)",
      "\u001b[1;32m<ipython-input-6-3b83809b4eb7>\u001b[0m in \u001b[0;36m<module>\u001b[1;34m\u001b[0m\n\u001b[0;32m      1\u001b[0m \u001b[0mdriver\u001b[0m \u001b[1;33m=\u001b[0m \u001b[0mwebdriver\u001b[0m\u001b[1;33m.\u001b[0m\u001b[0mChrome\u001b[0m\u001b[1;33m(\u001b[0m\u001b[1;34m\"chromedriver\"\u001b[0m\u001b[1;33m)\u001b[0m\u001b[1;33m\u001b[0m\u001b[1;33m\u001b[0m\u001b[0m\n\u001b[0;32m      2\u001b[0m \u001b[0mdriver\u001b[0m\u001b[1;33m.\u001b[0m\u001b[0mget\u001b[0m\u001b[1;33m(\u001b[0m\u001b[1;34m\"https://app.sushi.com/analytics/pools?chainId=56\"\u001b[0m\u001b[1;33m)\u001b[0m\u001b[1;33m\u001b[0m\u001b[1;33m\u001b[0m\u001b[0m\n\u001b[1;32m----> 3\u001b[1;33m \u001b[0mWebDriverWait\u001b[0m\u001b[1;33m(\u001b[0m\u001b[0mdriver\u001b[0m\u001b[1;33m,\u001b[0m \u001b[1;36m20\u001b[0m\u001b[1;33m)\u001b[0m\u001b[1;33m.\u001b[0m\u001b[0muntil\u001b[0m\u001b[1;33m(\u001b[0m\u001b[0mEC\u001b[0m\u001b[1;33m.\u001b[0m\u001b[0melement_to_be_clickable\u001b[0m\u001b[1;33m(\u001b[0m\u001b[1;33m(\u001b[0m\u001b[0mBy\u001b[0m\u001b[1;33m.\u001b[0m\u001b[0mXPATH\u001b[0m\u001b[1;33m,\u001b[0m \u001b[1;34m\"\"\"//*[@id=\"__next\"]/div/main/main/div/div/div[2]/div[3]/svg[2]\"\"\"\u001b[0m\u001b[1;33m)\u001b[0m\u001b[1;33m)\u001b[0m\u001b[1;33m)\u001b[0m\u001b[1;33m.\u001b[0m\u001b[0mclick\u001b[0m\u001b[1;33m(\u001b[0m\u001b[1;33m)\u001b[0m\u001b[1;33m\u001b[0m\u001b[1;33m\u001b[0m\u001b[0m\n\u001b[0m",
      "\u001b[1;32m~\\Anaconda3\\lib\\site-packages\\selenium\\webdriver\\support\\wait.py\u001b[0m in \u001b[0;36muntil\u001b[1;34m(self, method, message)\u001b[0m\n\u001b[0;32m     87\u001b[0m             \u001b[1;32mif\u001b[0m \u001b[0mtime\u001b[0m\u001b[1;33m.\u001b[0m\u001b[0mtime\u001b[0m\u001b[1;33m(\u001b[0m\u001b[1;33m)\u001b[0m \u001b[1;33m>\u001b[0m \u001b[0mend_time\u001b[0m\u001b[1;33m:\u001b[0m\u001b[1;33m\u001b[0m\u001b[1;33m\u001b[0m\u001b[0m\n\u001b[0;32m     88\u001b[0m                 \u001b[1;32mbreak\u001b[0m\u001b[1;33m\u001b[0m\u001b[1;33m\u001b[0m\u001b[0m\n\u001b[1;32m---> 89\u001b[1;33m         \u001b[1;32mraise\u001b[0m \u001b[0mTimeoutException\u001b[0m\u001b[1;33m(\u001b[0m\u001b[0mmessage\u001b[0m\u001b[1;33m,\u001b[0m \u001b[0mscreen\u001b[0m\u001b[1;33m,\u001b[0m \u001b[0mstacktrace\u001b[0m\u001b[1;33m)\u001b[0m\u001b[1;33m\u001b[0m\u001b[1;33m\u001b[0m\u001b[0m\n\u001b[0m\u001b[0;32m     90\u001b[0m \u001b[1;33m\u001b[0m\u001b[0m\n\u001b[0;32m     91\u001b[0m     \u001b[1;32mdef\u001b[0m \u001b[0muntil_not\u001b[0m\u001b[1;33m(\u001b[0m\u001b[0mself\u001b[0m\u001b[1;33m,\u001b[0m \u001b[0mmethod\u001b[0m\u001b[1;33m,\u001b[0m \u001b[0mmessage\u001b[0m\u001b[1;33m=\u001b[0m\u001b[1;34m''\u001b[0m\u001b[1;33m)\u001b[0m\u001b[1;33m:\u001b[0m\u001b[1;33m\u001b[0m\u001b[1;33m\u001b[0m\u001b[0m\n",
      "\u001b[1;31mTimeoutException\u001b[0m: Message: \nStacktrace:\nBacktrace:\n\tOrdinal0 [0x00C45FD3+2187219]\n\tOrdinal0 [0x00BDE6D1+1763025]\n\tOrdinal0 [0x00AF3E78+802424]\n\tOrdinal0 [0x00B21C10+990224]\n\tOrdinal0 [0x00B21EAB+990891]\n\tOrdinal0 [0x00B4EC92+1174674]\n\tOrdinal0 [0x00B3CBD4+1100756]\n\tOrdinal0 [0x00B4CFC2+1167298]\n\tOrdinal0 [0x00B3C9A6+1100198]\n\tOrdinal0 [0x00B16F80+946048]\n\tOrdinal0 [0x00B17E76+949878]\n\tGetHandleVerifier [0x00EE90C2+2721218]\n\tGetHandleVerifier [0x00EDAAF0+2662384]\n\tGetHandleVerifier [0x00CD137A+526458]\n\tGetHandleVerifier [0x00CD0416+522518]\n\tOrdinal0 [0x00BE4EAB+1789611]\n\tOrdinal0 [0x00BE97A8+1808296]\n\tOrdinal0 [0x00BE9895+1808533]\n\tOrdinal0 [0x00BF26C1+1844929]\n\tBaseThreadInitThunk [0x7690FA29+25]\n\tRtlGetAppContainerNamedObjectPath [0x77C37A9E+286]\n\tRtlGetAppContainerNamedObjectPath [0x77C37A6E+238]\n"
     ]
    }
   ],
   "source": [
    "driver = webdriver.Chrome(\"chromedriver\")\n",
    "driver.get(\"https://app.sushi.com/analytics/pools?chainId=56\")\n",
    "WebDriverWait(driver, 20).until(EC.element_to_be_clickable((By.XPATH, \"\"\"/html/body/div/div/main/main/div/div/div[2]/div[3]/svg[2]\"\"\"))).click()"
   ]
  },
  {
   "cell_type": "code",
   "execution_count": null,
   "metadata": {},
   "outputs": [],
   "source": [
    "    -webkit-text-size-adjust: 100%;\n",
    "    tab-size: 4;\n",
    "    font-feature-settings: \"case\" 1,\"rlig\" 1,\"calt\" 0;\n",
    "    --primary: #0d0415;\n",
    "    --text-primary: #bfbfbf;\n",
    "    --font-sans: \"DM Sans\",-apple-system,system-ui,BlinkMacSystemFont,\"Helvetica Neue\",\"Helvetica\",sans-serif;\n",
    "    --scrollbar-width: 14px;\n",
    "    --arrow: 15px;\n",
    "    --mprArrow: 9px;\n",
    "    line-height: inherit;\n",
    "    text-rendering: optimizeLegibility;\n",
    "    -webkit-font-smoothing: antialiased;\n",
    "    font-family: var(--font-sans);\n",
    "    user-select: none;\n",
    "    text-align: right;\n",
    "    fill: currentcolor;\n",
    "    width: 24;\n",
    "    height: 24;\n",
    "    border: 0 solid #e5e7eb;\n",
    "    --tw-border-spacing-x: 0;\n",
    "    --tw-border-spacing-y: 0;\n",
    "    --tw-translate-x: 0;\n",
    "    --tw-translate-y: 0;\n",
    "    --tw-rotate: 0;\n",
    "    --tw-skew-x: 0;\n",
    "    --tw-skew-y: 0;\n",
    "    --tw-scale-x: 1;\n",
    "    --tw-scale-y: 1;\n",
    "    --tw-pan-x: ;\n",
    "    --tw-pan-y: ;\n",
    "    --tw-pinch-zoom: ;\n",
    "    --tw-scroll-snap-strictness: proximity;\n",
    "    --tw-ordinal: ;\n",
    "    --tw-slashed-zero: ;\n",
    "    --tw-numeric-figure: ;\n",
    "    --tw-numeric-spacing: ;\n",
    "    --tw-numeric-fraction: ;\n",
    "    --tw-ring-inset: ;\n",
    "    --tw-ring-offset-width: 0px;\n",
    "    --tw-ring-offset-color: #fff;\n",
    "    --tw-ring-color: rgba(9,147,236,.5);\n",
    "    --tw-ring-offset-shadow: 0 0 #0000;\n",
    "    --tw-ring-shadow: 0 0 #0000;\n",
    "    --tw-shadow: 0 0 #0000;\n",
    "    --tw-shadow-colored: 0 0 #0000;\n",
    "    --tw-blur: ;\n",
    "    --tw-brightness: ;\n",
    "    --tw-contrast: ;\n",
    "    --tw-grayscale: ;\n",
    "    --tw-hue-rotate: ;\n",
    "    --tw-invert: ;\n",
    "    --tw-saturate: ;\n",
    "    --tw-sepia: ;\n",
    "    --tw-drop-shadow: ;\n",
    "    --tw-backdrop-blur: ;\n",
    "    --tw-backdrop-brightness: ;\n",
    "    --tw-backdrop-contrast: ;\n",
    "    --tw-backdrop-grayscale: ;\n",
    "    --tw-backdrop-hue-rotate: ;\n",
    "    --tw-backdrop-invert: ;\n",
    "    --tw-backdrop-opacity: ;\n",
    "    --tw-backdrop-saturate: ;\n",
    "    --tw-backdrop-sepia: ;\n",
    "    box-sizing: inherit;\n",
    "    vertical-align: middle;\n",
    "    margin-top: -.25rem;\n",
    "    display: inline-block;\n",
    "    cursor: pointer;\n",
    "    --tw-text-opacity: 1;\n",
    "    color: rgb(227 227 227/var(--tw-text-opacity));"
   ]
  },
  {
   "cell_type": "code",
   "execution_count": 10,
   "metadata": {},
   "outputs": [],
   "source": [
    "driver = webdriver.Chrome(\"chromedriver\")\n",
    "driver.get(\"https://app.sushi.com/analytics/pools?chainId=56\")\n",
    "driver.execute_script(\"window.scrollTo(0, document.body.scrollHeight);\")\n",
    "time.sleep(5)\n",
    "driver.find_element(By.XPATH,  '/html/body/div/div/main/main/div/div/div[2]/div[3]').click() "
   ]
  },
  {
   "cell_type": "code",
   "execution_count": 7,
   "metadata": {},
   "outputs": [
    {
     "ename": "TimeoutException",
     "evalue": "Message: \nStacktrace:\nBacktrace:\n\tOrdinal0 [0x00C45FD3+2187219]\n\tOrdinal0 [0x00BDE6D1+1763025]\n\tOrdinal0 [0x00AF3E78+802424]\n\tOrdinal0 [0x00B21C10+990224]\n\tOrdinal0 [0x00B21EAB+990891]\n\tOrdinal0 [0x00B4EC92+1174674]\n\tOrdinal0 [0x00B3CBD4+1100756]\n\tOrdinal0 [0x00B4CFC2+1167298]\n\tOrdinal0 [0x00B3C9A6+1100198]\n\tOrdinal0 [0x00B16F80+946048]\n\tOrdinal0 [0x00B17E76+949878]\n\tGetHandleVerifier [0x00EE90C2+2721218]\n\tGetHandleVerifier [0x00EDAAF0+2662384]\n\tGetHandleVerifier [0x00CD137A+526458]\n\tGetHandleVerifier [0x00CD0416+522518]\n\tOrdinal0 [0x00BE4EAB+1789611]\n\tOrdinal0 [0x00BE97A8+1808296]\n\tOrdinal0 [0x00BE9895+1808533]\n\tOrdinal0 [0x00BF26C1+1844929]\n\tBaseThreadInitThunk [0x7690FA29+25]\n\tRtlGetAppContainerNamedObjectPath [0x77C37A9E+286]\n\tRtlGetAppContainerNamedObjectPath [0x77C37A6E+238]\n",
     "output_type": "error",
     "traceback": [
      "\u001b[1;31m---------------------------------------------------------------------------\u001b[0m",
      "\u001b[1;31mTimeoutException\u001b[0m                          Traceback (most recent call last)",
      "\u001b[1;32m<ipython-input-7-e95649c5c188>\u001b[0m in \u001b[0;36m<module>\u001b[1;34m\u001b[0m\n\u001b[0;32m      2\u001b[0m \u001b[0mdriver\u001b[0m\u001b[1;33m.\u001b[0m\u001b[0mget\u001b[0m\u001b[1;33m(\u001b[0m\u001b[1;34m\"https://app.sushi.com/analytics/pools?chainId=56\"\u001b[0m\u001b[1;33m)\u001b[0m\u001b[1;33m\u001b[0m\u001b[1;33m\u001b[0m\u001b[0m\n\u001b[0;32m      3\u001b[0m \u001b[1;33m\u001b[0m\u001b[0m\n\u001b[1;32m----> 4\u001b[1;33m \u001b[0mpager\u001b[0m \u001b[1;33m=\u001b[0m \u001b[0mWebDriverWait\u001b[0m\u001b[1;33m(\u001b[0m\u001b[0mdriver\u001b[0m\u001b[1;33m,\u001b[0m \u001b[1;36m10\u001b[0m\u001b[1;33m)\u001b[0m\u001b[1;33m.\u001b[0m\u001b[0muntil\u001b[0m\u001b[1;33m(\u001b[0m\u001b[0mEC\u001b[0m\u001b[1;33m.\u001b[0m\u001b[0mpresence_of_element_located\u001b[0m\u001b[1;33m(\u001b[0m\u001b[1;33m(\u001b[0m\u001b[0mBy\u001b[0m\u001b[1;33m.\u001b[0m\u001b[0mXPATH\u001b[0m\u001b[1;33m,\u001b[0m \u001b[1;34m\"\"\"/html/body/div/div/main/main/div/div/div[2]/div[3]/svg[2]\"\"\"\u001b[0m\u001b[1;33m)\u001b[0m\u001b[1;33m)\u001b[0m\u001b[1;33m)\u001b[0m\u001b[1;33m\u001b[0m\u001b[1;33m\u001b[0m\u001b[0m\n\u001b[0m\u001b[0;32m      5\u001b[0m \u001b[0mdriver\u001b[0m\u001b[1;33m.\u001b[0m\u001b[0mexecute_script\u001b[0m\u001b[1;33m(\u001b[0m\u001b[1;34m\"window.scrollTo(0, document.body.scrollHeight);\"\u001b[0m\u001b[1;33m)\u001b[0m\u001b[1;33m\u001b[0m\u001b[1;33m\u001b[0m\u001b[0m\n\u001b[0;32m      6\u001b[0m \u001b[0mtime\u001b[0m\u001b[1;33m.\u001b[0m\u001b[0msleep\u001b[0m\u001b[1;33m(\u001b[0m\u001b[1;36m0.5\u001b[0m\u001b[1;33m)\u001b[0m\u001b[1;33m\u001b[0m\u001b[1;33m\u001b[0m\u001b[0m\n",
      "\u001b[1;32m~\\Anaconda3\\lib\\site-packages\\selenium\\webdriver\\support\\wait.py\u001b[0m in \u001b[0;36muntil\u001b[1;34m(self, method, message)\u001b[0m\n\u001b[0;32m     87\u001b[0m             \u001b[1;32mif\u001b[0m \u001b[0mtime\u001b[0m\u001b[1;33m.\u001b[0m\u001b[0mtime\u001b[0m\u001b[1;33m(\u001b[0m\u001b[1;33m)\u001b[0m \u001b[1;33m>\u001b[0m \u001b[0mend_time\u001b[0m\u001b[1;33m:\u001b[0m\u001b[1;33m\u001b[0m\u001b[1;33m\u001b[0m\u001b[0m\n\u001b[0;32m     88\u001b[0m                 \u001b[1;32mbreak\u001b[0m\u001b[1;33m\u001b[0m\u001b[1;33m\u001b[0m\u001b[0m\n\u001b[1;32m---> 89\u001b[1;33m         \u001b[1;32mraise\u001b[0m \u001b[0mTimeoutException\u001b[0m\u001b[1;33m(\u001b[0m\u001b[0mmessage\u001b[0m\u001b[1;33m,\u001b[0m \u001b[0mscreen\u001b[0m\u001b[1;33m,\u001b[0m \u001b[0mstacktrace\u001b[0m\u001b[1;33m)\u001b[0m\u001b[1;33m\u001b[0m\u001b[1;33m\u001b[0m\u001b[0m\n\u001b[0m\u001b[0;32m     90\u001b[0m \u001b[1;33m\u001b[0m\u001b[0m\n\u001b[0;32m     91\u001b[0m     \u001b[1;32mdef\u001b[0m \u001b[0muntil_not\u001b[0m\u001b[1;33m(\u001b[0m\u001b[0mself\u001b[0m\u001b[1;33m,\u001b[0m \u001b[0mmethod\u001b[0m\u001b[1;33m,\u001b[0m \u001b[0mmessage\u001b[0m\u001b[1;33m=\u001b[0m\u001b[1;34m''\u001b[0m\u001b[1;33m)\u001b[0m\u001b[1;33m:\u001b[0m\u001b[1;33m\u001b[0m\u001b[1;33m\u001b[0m\u001b[0m\n",
      "\u001b[1;31mTimeoutException\u001b[0m: Message: \nStacktrace:\nBacktrace:\n\tOrdinal0 [0x00C45FD3+2187219]\n\tOrdinal0 [0x00BDE6D1+1763025]\n\tOrdinal0 [0x00AF3E78+802424]\n\tOrdinal0 [0x00B21C10+990224]\n\tOrdinal0 [0x00B21EAB+990891]\n\tOrdinal0 [0x00B4EC92+1174674]\n\tOrdinal0 [0x00B3CBD4+1100756]\n\tOrdinal0 [0x00B4CFC2+1167298]\n\tOrdinal0 [0x00B3C9A6+1100198]\n\tOrdinal0 [0x00B16F80+946048]\n\tOrdinal0 [0x00B17E76+949878]\n\tGetHandleVerifier [0x00EE90C2+2721218]\n\tGetHandleVerifier [0x00EDAAF0+2662384]\n\tGetHandleVerifier [0x00CD137A+526458]\n\tGetHandleVerifier [0x00CD0416+522518]\n\tOrdinal0 [0x00BE4EAB+1789611]\n\tOrdinal0 [0x00BE97A8+1808296]\n\tOrdinal0 [0x00BE9895+1808533]\n\tOrdinal0 [0x00BF26C1+1844929]\n\tBaseThreadInitThunk [0x7690FA29+25]\n\tRtlGetAppContainerNamedObjectPath [0x77C37A9E+286]\n\tRtlGetAppContainerNamedObjectPath [0x77C37A6E+238]\n"
     ]
    }
   ],
   "source": [
    "driver = webdriver.Chrome(\"chromedriver\")\n",
    "driver.get(\"https://app.sushi.com/analytics/pools?chainId=56\")\n",
    "\n",
    "pager = WebDriverWait(driver, 10).until(EC.presence_of_element_located((By.XPATH, \"\"\"/html/body/div/div/main/main/div/div/div[2]/div[3]/svg[2]\"\"\")))\n",
    "driver.execute_script(\"window.scrollTo(0, document.body.scrollHeight);\")\n",
    "time.sleep(0.5)\n",
    "action = ActionChains(driver)\n",
    "actions.move_to_element(pager).perform()\n",
    "time.sleep(0.5)\n",
    "driver.find_element(By.XPATH,  \"\"\"/html/body/div/div/main/main/div/div/div[2]/div[3]/svg[2]\"\"\").click() "
   ]
  },
  {
   "cell_type": "code",
   "execution_count": 107,
   "metadata": {},
   "outputs": [
    {
     "ename": "NoSuchElementException",
     "evalue": "Message: no such element: Unable to locate element: {\"method\":\"xpath\",\"selector\":\"/html/body/div/div/main/main/div/div/div[2]/div[3]/svg[2]\"}\n  (Session info: chrome=103.0.5060.134)\nStacktrace:\nBacktrace:\n\tOrdinal0 [0x00C45FD3+2187219]\n\tOrdinal0 [0x00BDE6D1+1763025]\n\tOrdinal0 [0x00AF3E78+802424]\n\tOrdinal0 [0x00B21C10+990224]\n\tOrdinal0 [0x00B21EAB+990891]\n\tOrdinal0 [0x00B4EC92+1174674]\n\tOrdinal0 [0x00B3CBD4+1100756]\n\tOrdinal0 [0x00B4CFC2+1167298]\n\tOrdinal0 [0x00B3C9A6+1100198]\n\tOrdinal0 [0x00B16F80+946048]\n\tOrdinal0 [0x00B17E76+949878]\n\tGetHandleVerifier [0x00EE90C2+2721218]\n\tGetHandleVerifier [0x00EDAAF0+2662384]\n\tGetHandleVerifier [0x00CD137A+526458]\n\tGetHandleVerifier [0x00CD0416+522518]\n\tOrdinal0 [0x00BE4EAB+1789611]\n\tOrdinal0 [0x00BE97A8+1808296]\n\tOrdinal0 [0x00BE9895+1808533]\n\tOrdinal0 [0x00BF26C1+1844929]\n\tBaseThreadInitThunk [0x7690FA29+25]\n\tRtlGetAppContainerNamedObjectPath [0x77C37A9E+286]\n\tRtlGetAppContainerNamedObjectPath [0x77C37A6E+238]\n",
     "output_type": "error",
     "traceback": [
      "\u001b[1;31m---------------------------------------------------------------------------\u001b[0m",
      "\u001b[1;31mNoSuchElementException\u001b[0m                    Traceback (most recent call last)",
      "\u001b[1;32m<ipython-input-107-2ddf16eff386>\u001b[0m in \u001b[0;36m<module>\u001b[1;34m\u001b[0m\n\u001b[0;32m      2\u001b[0m \u001b[0mdriver\u001b[0m\u001b[1;33m.\u001b[0m\u001b[0mget\u001b[0m\u001b[1;33m(\u001b[0m\u001b[1;34m\"https://app.sushi.com/analytics/pools?chainId=56\"\u001b[0m\u001b[1;33m)\u001b[0m\u001b[1;33m\u001b[0m\u001b[1;33m\u001b[0m\u001b[0m\n\u001b[0;32m      3\u001b[0m \u001b[0mtime\u001b[0m\u001b[1;33m.\u001b[0m\u001b[0msleep\u001b[0m\u001b[1;33m(\u001b[0m\u001b[1;36m4\u001b[0m\u001b[1;33m)\u001b[0m\u001b[1;33m\u001b[0m\u001b[1;33m\u001b[0m\u001b[0m\n\u001b[1;32m----> 4\u001b[1;33m \u001b[0mdriver\u001b[0m\u001b[1;33m.\u001b[0m\u001b[0mfind_element\u001b[0m\u001b[1;33m(\u001b[0m\u001b[0mBy\u001b[0m\u001b[1;33m.\u001b[0m\u001b[0mXPATH\u001b[0m\u001b[1;33m,\u001b[0m \u001b[1;34m'/html/body/div/div/main/main/div/div/div[2]/div[3]/svg[2]'\u001b[0m\u001b[1;33m)\u001b[0m\u001b[1;33m.\u001b[0m\u001b[0mclick\u001b[0m\u001b[1;33m(\u001b[0m\u001b[1;33m)\u001b[0m\u001b[1;33m\u001b[0m\u001b[1;33m\u001b[0m\u001b[0m\n\u001b[0m\u001b[0;32m      5\u001b[0m \u001b[0mdriver\u001b[0m\u001b[1;33m.\u001b[0m\u001b[0mfind_element\u001b[0m\u001b[1;33m(\u001b[0m\u001b[0mBy\u001b[0m\u001b[1;33m.\u001b[0m\u001b[0mXPATH\u001b[0m\u001b[1;33m,\u001b[0m \u001b[1;34m'/html/body/div/div/main/main/div/div/div[2]/div[3]/svg[2]/path'\u001b[0m\u001b[1;33m)\u001b[0m\u001b[1;33m.\u001b[0m\u001b[0mclick\u001b[0m\u001b[1;33m(\u001b[0m\u001b[1;33m)\u001b[0m\u001b[1;33m\u001b[0m\u001b[1;33m\u001b[0m\u001b[0m\n",
      "\u001b[1;32m~\\Anaconda3\\lib\\site-packages\\selenium\\webdriver\\remote\\webdriver.py\u001b[0m in \u001b[0;36mfind_element\u001b[1;34m(self, by, value)\u001b[0m\n\u001b[0;32m   1244\u001b[0m         return self.execute(Command.FIND_ELEMENT, {\n\u001b[0;32m   1245\u001b[0m             \u001b[1;34m'using'\u001b[0m\u001b[1;33m:\u001b[0m \u001b[0mby\u001b[0m\u001b[1;33m,\u001b[0m\u001b[1;33m\u001b[0m\u001b[1;33m\u001b[0m\u001b[0m\n\u001b[1;32m-> 1246\u001b[1;33m             'value': value})['value']\n\u001b[0m\u001b[0;32m   1247\u001b[0m \u001b[1;33m\u001b[0m\u001b[0m\n\u001b[0;32m   1248\u001b[0m     \u001b[1;32mdef\u001b[0m \u001b[0mfind_elements\u001b[0m\u001b[1;33m(\u001b[0m\u001b[0mself\u001b[0m\u001b[1;33m,\u001b[0m \u001b[0mby\u001b[0m\u001b[1;33m=\u001b[0m\u001b[0mBy\u001b[0m\u001b[1;33m.\u001b[0m\u001b[0mID\u001b[0m\u001b[1;33m,\u001b[0m \u001b[0mvalue\u001b[0m\u001b[1;33m=\u001b[0m\u001b[1;32mNone\u001b[0m\u001b[1;33m)\u001b[0m \u001b[1;33m->\u001b[0m \u001b[0mList\u001b[0m\u001b[1;33m[\u001b[0m\u001b[0mWebElement\u001b[0m\u001b[1;33m]\u001b[0m\u001b[1;33m:\u001b[0m\u001b[1;33m\u001b[0m\u001b[1;33m\u001b[0m\u001b[0m\n",
      "\u001b[1;32m~\\Anaconda3\\lib\\site-packages\\selenium\\webdriver\\remote\\webdriver.py\u001b[0m in \u001b[0;36mexecute\u001b[1;34m(self, driver_command, params)\u001b[0m\n\u001b[0;32m    422\u001b[0m         \u001b[0mresponse\u001b[0m \u001b[1;33m=\u001b[0m \u001b[0mself\u001b[0m\u001b[1;33m.\u001b[0m\u001b[0mcommand_executor\u001b[0m\u001b[1;33m.\u001b[0m\u001b[0mexecute\u001b[0m\u001b[1;33m(\u001b[0m\u001b[0mdriver_command\u001b[0m\u001b[1;33m,\u001b[0m \u001b[0mparams\u001b[0m\u001b[1;33m)\u001b[0m\u001b[1;33m\u001b[0m\u001b[1;33m\u001b[0m\u001b[0m\n\u001b[0;32m    423\u001b[0m         \u001b[1;32mif\u001b[0m \u001b[0mresponse\u001b[0m\u001b[1;33m:\u001b[0m\u001b[1;33m\u001b[0m\u001b[1;33m\u001b[0m\u001b[0m\n\u001b[1;32m--> 424\u001b[1;33m             \u001b[0mself\u001b[0m\u001b[1;33m.\u001b[0m\u001b[0merror_handler\u001b[0m\u001b[1;33m.\u001b[0m\u001b[0mcheck_response\u001b[0m\u001b[1;33m(\u001b[0m\u001b[0mresponse\u001b[0m\u001b[1;33m)\u001b[0m\u001b[1;33m\u001b[0m\u001b[1;33m\u001b[0m\u001b[0m\n\u001b[0m\u001b[0;32m    425\u001b[0m             response['value'] = self._unwrap_value(\n\u001b[0;32m    426\u001b[0m                 response.get('value', None))\n",
      "\u001b[1;32m~\\Anaconda3\\lib\\site-packages\\selenium\\webdriver\\remote\\errorhandler.py\u001b[0m in \u001b[0;36mcheck_response\u001b[1;34m(self, response)\u001b[0m\n\u001b[0;32m    245\u001b[0m                 \u001b[0malert_text\u001b[0m \u001b[1;33m=\u001b[0m \u001b[0mvalue\u001b[0m\u001b[1;33m[\u001b[0m\u001b[1;34m'alert'\u001b[0m\u001b[1;33m]\u001b[0m\u001b[1;33m.\u001b[0m\u001b[0mget\u001b[0m\u001b[1;33m(\u001b[0m\u001b[1;34m'text'\u001b[0m\u001b[1;33m)\u001b[0m\u001b[1;33m\u001b[0m\u001b[1;33m\u001b[0m\u001b[0m\n\u001b[0;32m    246\u001b[0m             \u001b[1;32mraise\u001b[0m \u001b[0mexception_class\u001b[0m\u001b[1;33m(\u001b[0m\u001b[0mmessage\u001b[0m\u001b[1;33m,\u001b[0m \u001b[0mscreen\u001b[0m\u001b[1;33m,\u001b[0m \u001b[0mstacktrace\u001b[0m\u001b[1;33m,\u001b[0m \u001b[0malert_text\u001b[0m\u001b[1;33m)\u001b[0m  \u001b[1;31m# type: ignore[call-arg]  # mypy is not smart enough here\u001b[0m\u001b[1;33m\u001b[0m\u001b[1;33m\u001b[0m\u001b[0m\n\u001b[1;32m--> 247\u001b[1;33m         \u001b[1;32mraise\u001b[0m \u001b[0mexception_class\u001b[0m\u001b[1;33m(\u001b[0m\u001b[0mmessage\u001b[0m\u001b[1;33m,\u001b[0m \u001b[0mscreen\u001b[0m\u001b[1;33m,\u001b[0m \u001b[0mstacktrace\u001b[0m\u001b[1;33m)\u001b[0m\u001b[1;33m\u001b[0m\u001b[1;33m\u001b[0m\u001b[0m\n\u001b[0m\u001b[0;32m    248\u001b[0m \u001b[1;33m\u001b[0m\u001b[0m\n\u001b[0;32m    249\u001b[0m     \u001b[1;32mdef\u001b[0m \u001b[0m_value_or_default\u001b[0m\u001b[1;33m(\u001b[0m\u001b[0mself\u001b[0m\u001b[1;33m,\u001b[0m \u001b[0mobj\u001b[0m\u001b[1;33m:\u001b[0m \u001b[0mMapping\u001b[0m\u001b[1;33m[\u001b[0m\u001b[0m_KT\u001b[0m\u001b[1;33m,\u001b[0m \u001b[0m_VT\u001b[0m\u001b[1;33m]\u001b[0m\u001b[1;33m,\u001b[0m \u001b[0mkey\u001b[0m\u001b[1;33m:\u001b[0m \u001b[0m_KT\u001b[0m\u001b[1;33m,\u001b[0m \u001b[0mdefault\u001b[0m\u001b[1;33m:\u001b[0m \u001b[0m_VT\u001b[0m\u001b[1;33m)\u001b[0m \u001b[1;33m->\u001b[0m \u001b[0m_VT\u001b[0m\u001b[1;33m:\u001b[0m\u001b[1;33m\u001b[0m\u001b[1;33m\u001b[0m\u001b[0m\n",
      "\u001b[1;31mNoSuchElementException\u001b[0m: Message: no such element: Unable to locate element: {\"method\":\"xpath\",\"selector\":\"/html/body/div/div/main/main/div/div/div[2]/div[3]/svg[2]\"}\n  (Session info: chrome=103.0.5060.134)\nStacktrace:\nBacktrace:\n\tOrdinal0 [0x00C45FD3+2187219]\n\tOrdinal0 [0x00BDE6D1+1763025]\n\tOrdinal0 [0x00AF3E78+802424]\n\tOrdinal0 [0x00B21C10+990224]\n\tOrdinal0 [0x00B21EAB+990891]\n\tOrdinal0 [0x00B4EC92+1174674]\n\tOrdinal0 [0x00B3CBD4+1100756]\n\tOrdinal0 [0x00B4CFC2+1167298]\n\tOrdinal0 [0x00B3C9A6+1100198]\n\tOrdinal0 [0x00B16F80+946048]\n\tOrdinal0 [0x00B17E76+949878]\n\tGetHandleVerifier [0x00EE90C2+2721218]\n\tGetHandleVerifier [0x00EDAAF0+2662384]\n\tGetHandleVerifier [0x00CD137A+526458]\n\tGetHandleVerifier [0x00CD0416+522518]\n\tOrdinal0 [0x00BE4EAB+1789611]\n\tOrdinal0 [0x00BE97A8+1808296]\n\tOrdinal0 [0x00BE9895+1808533]\n\tOrdinal0 [0x00BF26C1+1844929]\n\tBaseThreadInitThunk [0x7690FA29+25]\n\tRtlGetAppContainerNamedObjectPath [0x77C37A9E+286]\n\tRtlGetAppContainerNamedObjectPath [0x77C37A6E+238]\n"
     ]
    }
   ],
   "source": [
    "\n",
    "time.sleep(4)\n",
    "driver.find_element(By.XPATH, '/html/body/div/div/main/main/div/div/div[2]/div[3]/svg[2]').click()\n",
    "driver.find_element(By.XPATH, '/html/body/div/div/main/main/div/div/div[2]/div[3]/svg[2]/path').click()"
   ]
  },
  {
   "cell_type": "code",
   "execution_count": 74,
   "metadata": {},
   "outputs": [
    {
     "data": {
      "text/html": [
       "<div>\n",
       "<style scoped>\n",
       "    .dataframe tbody tr th:only-of-type {\n",
       "        vertical-align: middle;\n",
       "    }\n",
       "\n",
       "    .dataframe tbody tr th {\n",
       "        vertical-align: top;\n",
       "    }\n",
       "\n",
       "    .dataframe thead th {\n",
       "        text-align: right;\n",
       "    }\n",
       "</style>\n",
       "<table border=\"1\" class=\"dataframe\">\n",
       "  <thead>\n",
       "    <tr style=\"text-align: right;\">\n",
       "      <th></th>\n",
       "      <th>POOL_NAME</th>\n",
       "      <th>SYMBOL_0</th>\n",
       "      <th>SYMBOL_1</th>\n",
       "      <th>POOL_ADDRESS</th>\n",
       "      <th>TOKEN_0</th>\n",
       "      <th>TOKEN_1</th>\n",
       "    </tr>\n",
       "  </thead>\n",
       "  <tbody>\n",
       "    <tr>\n",
       "      <th>0</th>\n",
       "      <td>EKTA v2-USDT</td>\n",
       "      <td>EKTA v2</td>\n",
       "      <td>USDT</td>\n",
       "      <td>0x373345c3efa3fd836ad1d54afbd3c5eb86e12120</td>\n",
       "      <td>0x45808ce43eb2d7685ff0242631f0feb6f3d8701a</td>\n",
       "      <td>0x55d398326f99059ff775485246999027b3197955</td>\n",
       "    </tr>\n",
       "  </tbody>\n",
       "</table>\n",
       "</div>"
      ],
      "text/plain": [
       "      POOL_NAME SYMBOL_0 SYMBOL_1                                POOL_ADDRESS  \\\n",
       "0  EKTA v2-USDT  EKTA v2     USDT  0x373345c3efa3fd836ad1d54afbd3c5eb86e12120   \n",
       "\n",
       "                                      TOKEN_0  \\\n",
       "0  0x45808ce43eb2d7685ff0242631f0feb6f3d8701a   \n",
       "\n",
       "                                      TOKEN_1  \n",
       "0  0x55d398326f99059ff775485246999027b3197955  "
      ]
     },
     "execution_count": 74,
     "metadata": {},
     "output_type": "execute_result"
    }
   ],
   "source": [
    "df.append(dict(zip(fields,row)), ignore_index = True)"
   ]
  },
  {
   "cell_type": "code",
   "execution_count": 41,
   "metadata": {},
   "outputs": [
    {
     "data": {
      "text/plain": [
       "<selenium.webdriver.remote.webelement.WebElement (session=\"7fde4a894cb4887281082c9a4c762bf7\", element=\"ad2b16e3-2e8f-4f02-85c8-96782c6d07f9\")>"
      ]
     },
     "execution_count": 41,
     "metadata": {},
     "output_type": "execute_result"
    }
   ],
   "source": [
    "name[0]"
   ]
  },
  {
   "cell_type": "code",
   "execution_count": null,
   "metadata": {},
   "outputs": [],
   "source": [
    "/html/body/div[1]/div/main/main/div/div/div[7]/div/table/thead/tr/th[1]"
   ]
  },
  {
   "cell_type": "code",
   "execution_count": 33,
   "metadata": {},
   "outputs": [
    {
     "ename": "TypeError",
     "evalue": "'WebElement' object is not iterable",
     "output_type": "error",
     "traceback": [
      "\u001b[1;31m---------------------------------------------------------------------------\u001b[0m",
      "\u001b[1;31mTypeError\u001b[0m                                 Traceback (most recent call last)",
      "\u001b[1;32m<ipython-input-33-31203461de99>\u001b[0m in \u001b[0;36m<module>\u001b[1;34m\u001b[0m\n\u001b[1;32m----> 1\u001b[1;33m \u001b[1;32mfor\u001b[0m \u001b[0mi\u001b[0m \u001b[1;32min\u001b[0m \u001b[0mnames\u001b[0m\u001b[1;33m[\u001b[0m\u001b[1;36m0\u001b[0m\u001b[1;33m]\u001b[0m\u001b[1;33m:\u001b[0m\u001b[1;33m\u001b[0m\u001b[1;33m\u001b[0m\u001b[0m\n\u001b[0m\u001b[0;32m      2\u001b[0m     \u001b[0mprint\u001b[0m\u001b[1;33m(\u001b[0m\u001b[0mi\u001b[0m\u001b[1;33m.\u001b[0m\u001b[0mtext\u001b[0m\u001b[1;33m)\u001b[0m\u001b[1;33m\u001b[0m\u001b[1;33m\u001b[0m\u001b[0m\n",
      "\u001b[1;31mTypeError\u001b[0m: 'WebElement' object is not iterable"
     ]
    }
   ],
   "source": [
    "for i in names[0]:\n",
    "    print(i.text)"
   ]
  },
  {
   "cell_type": "code",
   "execution_count": 22,
   "metadata": {},
   "outputs": [],
   "source": [
    "for i in names:\n",
    "    print(i)"
   ]
  },
  {
   "cell_type": "code",
   "execution_count": null,
   "metadata": {},
   "outputs": [],
   "source": [
    "<th class=\"py-3 pl-4 text-sm text-left text-secondary\">EKTA v2-USDT Address</th>"
   ]
  },
  {
   "cell_type": "code",
   "execution_count": null,
   "metadata": {},
   "outputs": [],
   "source": [
    "/html/body/div/div/main/main/div/div/div[7]/div/table/thead/tr/th[2]"
   ]
  },
  {
   "cell_type": "code",
   "execution_count": null,
   "metadata": {},
   "outputs": [],
   "source": [
    "/html/body/div/div/main/main/div/div/div[7]/div/table/thead/tr/th[1]"
   ]
  },
  {
   "cell_type": "code",
   "execution_count": null,
   "metadata": {},
   "outputs": [],
   "source": [
    "/html/body/div/div/main/main/div/div/div[7]/div/table/thead/tr/th[3]"
   ]
  },
  {
   "cell_type": "code",
   "execution_count": 20,
   "metadata": {},
   "outputs": [
    {
     "data": {
      "text/plain": [
       "[]"
      ]
     },
     "execution_count": 20,
     "metadata": {},
     "output_type": "execute_result"
    }
   ],
   "source": [
    "names"
   ]
  },
  {
   "cell_type": "code",
   "execution_count": 3,
   "metadata": {},
   "outputs": [
    {
     "ename": "InvalidSessionIdException",
     "evalue": "Message: invalid session id\nStacktrace:\nBacktrace:\n\tOrdinal0 [0x00C45FD3+2187219]\n\tOrdinal0 [0x00BDE6D1+1763025]\n\tOrdinal0 [0x00AF3D40+802112]\n\tOrdinal0 [0x00B16A00+944640]\n\tOrdinal0 [0x00B3CA80+1100416]\n\tOrdinal0 [0x00B3A8D3+1091795]\n\tOrdinal0 [0x00B3A489+1090697]\n\tOrdinal0 [0x00AD5447+676935]\n\tOrdinal0 [0x00AD59C3+678339]\n\tOrdinal0 [0x00AD5DFA+679418]\n\tGetHandleVerifier [0x00EE90C2+2721218]\n\tGetHandleVerifier [0x00EDAAF0+2662384]\n\tGetHandleVerifier [0x00CD137A+526458]\n\tGetHandleVerifier [0x00CD0416+522518]\n\tOrdinal0 [0x00BE4EAB+1789611]\n\tOrdinal0 [0x00AD51D7+676311]\n\tOrdinal0 [0x00AD4C88+674952]\n\tGetHandleVerifier [0x00F0BEDC+2864092]\n\tBaseThreadInitThunk [0x7690FA29+25]\n\tRtlGetAppContainerNamedObjectPath [0x77C37A9E+286]\n\tRtlGetAppContainerNamedObjectPath [0x77C37A6E+238]\n",
     "output_type": "error",
     "traceback": [
      "\u001b[1;31m---------------------------------------------------------------------------\u001b[0m",
      "\u001b[1;31mInvalidSessionIdException\u001b[0m                 Traceback (most recent call last)",
      "\u001b[1;32m<ipython-input-3-7107cd4d9422>\u001b[0m in \u001b[0;36m<module>\u001b[1;34m\u001b[0m\n\u001b[1;32m----> 1\u001b[1;33m \u001b[1;32mfor\u001b[0m \u001b[0mtext\u001b[0m \u001b[1;32min\u001b[0m \u001b[0mLP_elements\u001b[0m\u001b[1;33m.\u001b[0m\u001b[0mtext\u001b[0m\u001b[1;33m:\u001b[0m\u001b[1;33m\u001b[0m\u001b[1;33m\u001b[0m\u001b[0m\n\u001b[0m\u001b[0;32m      2\u001b[0m     \u001b[0mprint\u001b[0m\u001b[1;33m(\u001b[0m\u001b[0mtext\u001b[0m\u001b[1;33m)\u001b[0m\u001b[1;33m\u001b[0m\u001b[1;33m\u001b[0m\u001b[0m\n",
      "\u001b[1;32m~\\Anaconda3\\lib\\site-packages\\selenium\\webdriver\\remote\\webelement.py\u001b[0m in \u001b[0;36mtext\u001b[1;34m(self)\u001b[0m\n\u001b[0;32m     75\u001b[0m     \u001b[1;32mdef\u001b[0m \u001b[0mtext\u001b[0m\u001b[1;33m(\u001b[0m\u001b[0mself\u001b[0m\u001b[1;33m)\u001b[0m \u001b[1;33m->\u001b[0m \u001b[0mstr\u001b[0m\u001b[1;33m:\u001b[0m\u001b[1;33m\u001b[0m\u001b[1;33m\u001b[0m\u001b[0m\n\u001b[0;32m     76\u001b[0m         \u001b[1;34m\"\"\"The text of the element.\"\"\"\u001b[0m\u001b[1;33m\u001b[0m\u001b[1;33m\u001b[0m\u001b[0m\n\u001b[1;32m---> 77\u001b[1;33m         \u001b[1;32mreturn\u001b[0m \u001b[0mself\u001b[0m\u001b[1;33m.\u001b[0m\u001b[0m_execute\u001b[0m\u001b[1;33m(\u001b[0m\u001b[0mCommand\u001b[0m\u001b[1;33m.\u001b[0m\u001b[0mGET_ELEMENT_TEXT\u001b[0m\u001b[1;33m)\u001b[0m\u001b[1;33m[\u001b[0m\u001b[1;34m'value'\u001b[0m\u001b[1;33m]\u001b[0m\u001b[1;33m\u001b[0m\u001b[1;33m\u001b[0m\u001b[0m\n\u001b[0m\u001b[0;32m     78\u001b[0m \u001b[1;33m\u001b[0m\u001b[0m\n\u001b[0;32m     79\u001b[0m     \u001b[1;32mdef\u001b[0m \u001b[0mclick\u001b[0m\u001b[1;33m(\u001b[0m\u001b[0mself\u001b[0m\u001b[1;33m)\u001b[0m \u001b[1;33m->\u001b[0m \u001b[1;32mNone\u001b[0m\u001b[1;33m:\u001b[0m\u001b[1;33m\u001b[0m\u001b[1;33m\u001b[0m\u001b[0m\n",
      "\u001b[1;32m~\\Anaconda3\\lib\\site-packages\\selenium\\webdriver\\remote\\webelement.py\u001b[0m in \u001b[0;36m_execute\u001b[1;34m(self, command, params)\u001b[0m\n\u001b[0;32m    708\u001b[0m             \u001b[0mparams\u001b[0m \u001b[1;33m=\u001b[0m \u001b[1;33m{\u001b[0m\u001b[1;33m}\u001b[0m\u001b[1;33m\u001b[0m\u001b[1;33m\u001b[0m\u001b[0m\n\u001b[0;32m    709\u001b[0m         \u001b[0mparams\u001b[0m\u001b[1;33m[\u001b[0m\u001b[1;34m'id'\u001b[0m\u001b[1;33m]\u001b[0m \u001b[1;33m=\u001b[0m \u001b[0mself\u001b[0m\u001b[1;33m.\u001b[0m\u001b[0m_id\u001b[0m\u001b[1;33m\u001b[0m\u001b[1;33m\u001b[0m\u001b[0m\n\u001b[1;32m--> 710\u001b[1;33m         \u001b[1;32mreturn\u001b[0m \u001b[0mself\u001b[0m\u001b[1;33m.\u001b[0m\u001b[0m_parent\u001b[0m\u001b[1;33m.\u001b[0m\u001b[0mexecute\u001b[0m\u001b[1;33m(\u001b[0m\u001b[0mcommand\u001b[0m\u001b[1;33m,\u001b[0m \u001b[0mparams\u001b[0m\u001b[1;33m)\u001b[0m\u001b[1;33m\u001b[0m\u001b[1;33m\u001b[0m\u001b[0m\n\u001b[0m\u001b[0;32m    711\u001b[0m \u001b[1;33m\u001b[0m\u001b[0m\n\u001b[0;32m    712\u001b[0m     \u001b[1;32mdef\u001b[0m \u001b[0mfind_element\u001b[0m\u001b[1;33m(\u001b[0m\u001b[0mself\u001b[0m\u001b[1;33m,\u001b[0m \u001b[0mby\u001b[0m\u001b[1;33m=\u001b[0m\u001b[0mBy\u001b[0m\u001b[1;33m.\u001b[0m\u001b[0mID\u001b[0m\u001b[1;33m,\u001b[0m \u001b[0mvalue\u001b[0m\u001b[1;33m=\u001b[0m\u001b[1;32mNone\u001b[0m\u001b[1;33m)\u001b[0m\u001b[1;33m:\u001b[0m\u001b[1;33m\u001b[0m\u001b[1;33m\u001b[0m\u001b[0m\n",
      "\u001b[1;32m~\\Anaconda3\\lib\\site-packages\\selenium\\webdriver\\remote\\webdriver.py\u001b[0m in \u001b[0;36mexecute\u001b[1;34m(self, driver_command, params)\u001b[0m\n\u001b[0;32m    422\u001b[0m         \u001b[0mresponse\u001b[0m \u001b[1;33m=\u001b[0m \u001b[0mself\u001b[0m\u001b[1;33m.\u001b[0m\u001b[0mcommand_executor\u001b[0m\u001b[1;33m.\u001b[0m\u001b[0mexecute\u001b[0m\u001b[1;33m(\u001b[0m\u001b[0mdriver_command\u001b[0m\u001b[1;33m,\u001b[0m \u001b[0mparams\u001b[0m\u001b[1;33m)\u001b[0m\u001b[1;33m\u001b[0m\u001b[1;33m\u001b[0m\u001b[0m\n\u001b[0;32m    423\u001b[0m         \u001b[1;32mif\u001b[0m \u001b[0mresponse\u001b[0m\u001b[1;33m:\u001b[0m\u001b[1;33m\u001b[0m\u001b[1;33m\u001b[0m\u001b[0m\n\u001b[1;32m--> 424\u001b[1;33m             \u001b[0mself\u001b[0m\u001b[1;33m.\u001b[0m\u001b[0merror_handler\u001b[0m\u001b[1;33m.\u001b[0m\u001b[0mcheck_response\u001b[0m\u001b[1;33m(\u001b[0m\u001b[0mresponse\u001b[0m\u001b[1;33m)\u001b[0m\u001b[1;33m\u001b[0m\u001b[1;33m\u001b[0m\u001b[0m\n\u001b[0m\u001b[0;32m    425\u001b[0m             response['value'] = self._unwrap_value(\n\u001b[0;32m    426\u001b[0m                 response.get('value', None))\n",
      "\u001b[1;32m~\\Anaconda3\\lib\\site-packages\\selenium\\webdriver\\remote\\errorhandler.py\u001b[0m in \u001b[0;36mcheck_response\u001b[1;34m(self, response)\u001b[0m\n\u001b[0;32m    245\u001b[0m                 \u001b[0malert_text\u001b[0m \u001b[1;33m=\u001b[0m \u001b[0mvalue\u001b[0m\u001b[1;33m[\u001b[0m\u001b[1;34m'alert'\u001b[0m\u001b[1;33m]\u001b[0m\u001b[1;33m.\u001b[0m\u001b[0mget\u001b[0m\u001b[1;33m(\u001b[0m\u001b[1;34m'text'\u001b[0m\u001b[1;33m)\u001b[0m\u001b[1;33m\u001b[0m\u001b[1;33m\u001b[0m\u001b[0m\n\u001b[0;32m    246\u001b[0m             \u001b[1;32mraise\u001b[0m \u001b[0mexception_class\u001b[0m\u001b[1;33m(\u001b[0m\u001b[0mmessage\u001b[0m\u001b[1;33m,\u001b[0m \u001b[0mscreen\u001b[0m\u001b[1;33m,\u001b[0m \u001b[0mstacktrace\u001b[0m\u001b[1;33m,\u001b[0m \u001b[0malert_text\u001b[0m\u001b[1;33m)\u001b[0m  \u001b[1;31m# type: ignore[call-arg]  # mypy is not smart enough here\u001b[0m\u001b[1;33m\u001b[0m\u001b[1;33m\u001b[0m\u001b[0m\n\u001b[1;32m--> 247\u001b[1;33m         \u001b[1;32mraise\u001b[0m \u001b[0mexception_class\u001b[0m\u001b[1;33m(\u001b[0m\u001b[0mmessage\u001b[0m\u001b[1;33m,\u001b[0m \u001b[0mscreen\u001b[0m\u001b[1;33m,\u001b[0m \u001b[0mstacktrace\u001b[0m\u001b[1;33m)\u001b[0m\u001b[1;33m\u001b[0m\u001b[1;33m\u001b[0m\u001b[0m\n\u001b[0m\u001b[0;32m    248\u001b[0m \u001b[1;33m\u001b[0m\u001b[0m\n\u001b[0;32m    249\u001b[0m     \u001b[1;32mdef\u001b[0m \u001b[0m_value_or_default\u001b[0m\u001b[1;33m(\u001b[0m\u001b[0mself\u001b[0m\u001b[1;33m,\u001b[0m \u001b[0mobj\u001b[0m\u001b[1;33m:\u001b[0m \u001b[0mMapping\u001b[0m\u001b[1;33m[\u001b[0m\u001b[0m_KT\u001b[0m\u001b[1;33m,\u001b[0m \u001b[0m_VT\u001b[0m\u001b[1;33m]\u001b[0m\u001b[1;33m,\u001b[0m \u001b[0mkey\u001b[0m\u001b[1;33m:\u001b[0m \u001b[0m_KT\u001b[0m\u001b[1;33m,\u001b[0m \u001b[0mdefault\u001b[0m\u001b[1;33m:\u001b[0m \u001b[0m_VT\u001b[0m\u001b[1;33m)\u001b[0m \u001b[1;33m->\u001b[0m \u001b[0m_VT\u001b[0m\u001b[1;33m:\u001b[0m\u001b[1;33m\u001b[0m\u001b[1;33m\u001b[0m\u001b[0m\n",
      "\u001b[1;31mInvalidSessionIdException\u001b[0m: Message: invalid session id\nStacktrace:\nBacktrace:\n\tOrdinal0 [0x00C45FD3+2187219]\n\tOrdinal0 [0x00BDE6D1+1763025]\n\tOrdinal0 [0x00AF3D40+802112]\n\tOrdinal0 [0x00B16A00+944640]\n\tOrdinal0 [0x00B3CA80+1100416]\n\tOrdinal0 [0x00B3A8D3+1091795]\n\tOrdinal0 [0x00B3A489+1090697]\n\tOrdinal0 [0x00AD5447+676935]\n\tOrdinal0 [0x00AD59C3+678339]\n\tOrdinal0 [0x00AD5DFA+679418]\n\tGetHandleVerifier [0x00EE90C2+2721218]\n\tGetHandleVerifier [0x00EDAAF0+2662384]\n\tGetHandleVerifier [0x00CD137A+526458]\n\tGetHandleVerifier [0x00CD0416+522518]\n\tOrdinal0 [0x00BE4EAB+1789611]\n\tOrdinal0 [0x00AD51D7+676311]\n\tOrdinal0 [0x00AD4C88+674952]\n\tGetHandleVerifier [0x00F0BEDC+2864092]\n\tBaseThreadInitThunk [0x7690FA29+25]\n\tRtlGetAppContainerNamedObjectPath [0x77C37A9E+286]\n\tRtlGetAppContainerNamedObjectPath [0x77C37A6E+238]\n"
     ]
    }
   ],
   "source": [
    "for text in LP_elements.text:\n",
    "    print(text)"
   ]
  },
  {
   "cell_type": "code",
   "execution_count": null,
   "metadata": {},
   "outputs": [],
   "source": [
    "LP_elements.text"
   ]
  }
 ],
 "metadata": {
  "kernelspec": {
   "display_name": "Python 3",
   "language": "python",
   "name": "python3"
  },
  "language_info": {
   "codemirror_mode": {
    "name": "ipython",
    "version": 3
   },
   "file_extension": ".py",
   "mimetype": "text/x-python",
   "name": "python",
   "nbconvert_exporter": "python",
   "pygments_lexer": "ipython3",
   "version": "3.7.4"
  }
 },
 "nbformat": 4,
 "nbformat_minor": 2
}
