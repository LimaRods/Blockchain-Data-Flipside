{
 "cells": [
  {
   "cell_type": "code",
   "execution_count": 10,
   "metadata": {},
   "outputs": [
    {
     "data": {
      "text/html": [
       "<style>.container { width:100% !important; }</style>"
      ],
      "text/plain": [
       "<IPython.core.display.HTML object>"
      ]
     },
     "metadata": {},
     "output_type": "display_data"
    }
   ],
   "source": [
    "import re\n",
    "from IPython.core.display import display, HTML\n",
    "display(HTML(\"<style>.container { width:100% !important; }</style>\"))"
   ]
  },
  {
   "cell_type": "markdown",
   "metadata": {},
   "source": [
    "## Velodrome's LPs"
   ]
  },
  {
   "cell_type": "code",
   "execution_count": 2,
   "metadata": {},
   "outputs": [],
   "source": [
    "pools_velo = {\n",
    "    '0x4f7ebc19844259386dbddb7b2eb759eefc6f8353':'StableV1 AMM - USDC/DAI',\n",
    "    '0xd16232ad60188b68076a235c65d692090caba155':'StableV1 AMM - USDC/sUSD',\n",
    "    '0x79c912fef520be002c2b6e57ec4324e260f38e50':'VolatileV1 AMM - WETH/USDC',\n",
    "    '0x47029bc8f5cbe3b464004e87ef9c9419a48018cd':'VolatileV1 AMM - OP/USDC',\n",
    "    '0xfd7fddfc0a729ecf45fb6b12fa3b71a575e1966f':'StableV1 AMM - WETH/sETH',\n",
    "    '0xd62c9d8a3d4fd98b27caaefe3571782a3af0a737':'StableV1 AMM - USDC/MAI',\n",
    "    '0xadf902b11e4ad36b227b84d856b229258b0b0465':'StableV1 AMM - FRAX/USDC',\n",
    "    '0xe8537b6ff1039cb9ed0b71713f697ddbadbb717d':'VolatileV1 AMM - VELO/USDC',\n",
    "    '0x207addb05c548f262219f6bfc6e11c02d0f7fdbe':'StableV1 AMM - USDC/LUSD',\n",
    "    '0x587233ce63d7c1e081ce9d94d9940544758f6d01':'VolatileV1 AMM - FRAX/USDC',\n",
    "    '0xec24eb97cec2f0f6a2d61254990b0f163bbbfe1d':'StableV1 AMM - sUSD/DAI',\n",
    "    '0x6fd5bee1ddb4dbbb0b7368b080ab99b8ba765902':'StableV1 AMM - alETH/WETH',\n",
    "    '0x6c5019d345ec05004a7e7b0623a91a0d9b8d590d':'StableV1 AMM - USDC/DOLA',\n",
    "    '0xe75a3f4bf99882ad9f8aebab2115873315425d00':'StableV1 AMM - USDC/alUSD',\n",
    "    '0xffd74ef185989bff8752c818a53a47fc45388f08':'VolatileV1 AMM - VELO/OP',\n",
    "    '0xdee1856d7b75abf4c1bdf986da4e1c6c7864d640':'VolatileV1 AMM - LYRA/USDC',\n",
    "    '0x43ce87a1ad20277b78cae52c7bcd5fc82a297551':'VolatileV1 AMM - WETH/DOLA',\n",
    "    '0x9c8a59934fba9af82674eff5d13a24e7c7e7a1f1':'VolatileV1 AMM - USDC/PERP',\n",
    "    '0x9355292f66552ea5717b274d27eefc8254011d83':'VolatileV1 AMM - THALES/USDC',\n",
    "    '0x43c3f2d0aa0ebc433d654bb6ebf67f0c03f8d8d9':'VolatileV1 AMM - OP/DAI',\n",
    "    '0x588443c932b45f47e936b969eb5aa6b5fd4f3369':'VolatileV1 AMM - HND/USDC',\n",
    "    '0xc2058aa3b3f96075cc33946bcd1963bfa660315b':'VolatileV1 AMM - sUSD/DAI',\n",
    "    '0xac49498b97312a6716ef312f389b7e4d183a2a7c':'StableV1 AMM - FRAX/sUSD',\n",
    "    '0xe2ea57fdf87624f4384ef6da5f3844e8e9e5d878':'VolatileV1 AMM - FRAX/FXS',\n",
    "    '0xcdd41009e74bd1ae4f7b2eecf892e4bc718b9302':'VolatileV1 AMM - WETH/OP',\n",
    "    '0xffb6c35960b23989037c8c391facebc8a17de970':'VolatileV1 AMM - WETH/SNX',\n",
    "    '0x85ff5b70de43fee34f3fa632addd9f76a0f6baa9':'VolatileV1 AMM - SNX/sUSD',\n",
    "    '0x986d353a3700530be4e75794830f57e657bc68cb':'VolatileV1 AMM - FRAX/OP',\n",
    "    '0xfdad8f85c0f3895c85301f549d124ce526479bf8':'StableV1 AMM - WBTC/renBTC',\n",
    "    '0x06141423dcf1a5a4c137039063ac873cdc1e363a':'VolatileV1 AMM - VELO/WETH',\n",
    "    '0x4c8b195d33c6f95a8262d56ede793611ee7b5aad':'VolatileV1 AMM - WBTC/USDC',\n",
    "    '0xe8633ce5d216ebfdddf6875067dfb8397dedcaf3':'StableV1 AMM - OP/USDC',\n",
    "    '0x335bd4ffa921160fc86ce3843f80a9941e7456c6':'StableV1 AMM - VELO/USDC',\n",
    "    '0xe47d437252fe9cb5e74396eee63360d8647df25d':'VolatileV1 AMM - LYRA/sUSD',\n",
    "    '0x93fc04cd6d108588ecd844c7d60f46635037b5a3':'VolatileV1 AMM - USDC/sUSD',\n",
    "    '0xfc77e39De40E54F820E313039207DC850E4C9E60':'VolatileV1 AMM - OP/L2DAO',\n",
    "    '0x53bea2d15efe344b054e73209455d2b6aa1c9462':'VolatileV1 AMM - OP/sUSD'\n",
    "}"
   ]
  },
  {
   "cell_type": "code",
   "execution_count": 3,
   "metadata": {},
   "outputs": [
    {
     "name": "stdout",
     "output_type": "stream",
     "text": [
      "WHEN CONTRACT_ADDRESS = '0x4f7ebc19844259386dbddb7b2eb759eefc6f8353' THEN 'USDC/DAI' \n",
      "WHEN CONTRACT_ADDRESS = '0xd16232ad60188b68076a235c65d692090caba155' THEN 'USDC/sUSD' \n",
      "WHEN CONTRACT_ADDRESS = '0x79c912fef520be002c2b6e57ec4324e260f38e50' THEN 'WETH/USDC' \n",
      "WHEN CONTRACT_ADDRESS = '0x47029bc8f5cbe3b464004e87ef9c9419a48018cd' THEN 'OP/USDC' \n",
      "WHEN CONTRACT_ADDRESS = '0xfd7fddfc0a729ecf45fb6b12fa3b71a575e1966f' THEN 'WETH/sETH' \n",
      "WHEN CONTRACT_ADDRESS = '0xd62c9d8a3d4fd98b27caaefe3571782a3af0a737' THEN 'USDC/MAI' \n",
      "WHEN CONTRACT_ADDRESS = '0xadf902b11e4ad36b227b84d856b229258b0b0465' THEN 'FRAX/USDC' \n",
      "WHEN CONTRACT_ADDRESS = '0xe8537b6ff1039cb9ed0b71713f697ddbadbb717d' THEN 'VELO/USDC' \n",
      "WHEN CONTRACT_ADDRESS = '0x207addb05c548f262219f6bfc6e11c02d0f7fdbe' THEN 'USDC/LUSD' \n",
      "WHEN CONTRACT_ADDRESS = '0x587233ce63d7c1e081ce9d94d9940544758f6d01' THEN 'FRAX/USDC' \n",
      "WHEN CONTRACT_ADDRESS = '0xec24eb97cec2f0f6a2d61254990b0f163bbbfe1d' THEN 'sUSD/DAI' \n",
      "WHEN CONTRACT_ADDRESS = '0x6fd5bee1ddb4dbbb0b7368b080ab99b8ba765902' THEN 'alETH/WETH' \n",
      "WHEN CONTRACT_ADDRESS = '0x6c5019d345ec05004a7e7b0623a91a0d9b8d590d' THEN 'USDC/DOLA' \n",
      "WHEN CONTRACT_ADDRESS = '0xe75a3f4bf99882ad9f8aebab2115873315425d00' THEN 'USDC/alUSD' \n",
      "WHEN CONTRACT_ADDRESS = '0xffd74ef185989bff8752c818a53a47fc45388f08' THEN 'VELO/OP' \n",
      "WHEN CONTRACT_ADDRESS = '0xdee1856d7b75abf4c1bdf986da4e1c6c7864d640' THEN 'LYRA/USDC' \n",
      "WHEN CONTRACT_ADDRESS = '0x43ce87a1ad20277b78cae52c7bcd5fc82a297551' THEN 'WETH/DOLA' \n",
      "WHEN CONTRACT_ADDRESS = '0x9c8a59934fba9af82674eff5d13a24e7c7e7a1f1' THEN 'USDC/PERP' \n",
      "WHEN CONTRACT_ADDRESS = '0x9355292f66552ea5717b274d27eefc8254011d83' THEN 'THALES/USDC' \n",
      "WHEN CONTRACT_ADDRESS = '0x43c3f2d0aa0ebc433d654bb6ebf67f0c03f8d8d9' THEN 'OP/DAI' \n",
      "WHEN CONTRACT_ADDRESS = '0x588443c932b45f47e936b969eb5aa6b5fd4f3369' THEN 'HND/USDC' \n",
      "WHEN CONTRACT_ADDRESS = '0xc2058aa3b3f96075cc33946bcd1963bfa660315b' THEN 'sUSD/DAI' \n",
      "WHEN CONTRACT_ADDRESS = '0xac49498b97312a6716ef312f389b7e4d183a2a7c' THEN 'FRAX/sUSD' \n",
      "WHEN CONTRACT_ADDRESS = '0xe2ea57fdf87624f4384ef6da5f3844e8e9e5d878' THEN 'FRAX/FXS' \n",
      "WHEN CONTRACT_ADDRESS = '0xcdd41009e74bd1ae4f7b2eecf892e4bc718b9302' THEN 'WETH/OP' \n",
      "WHEN CONTRACT_ADDRESS = '0xffb6c35960b23989037c8c391facebc8a17de970' THEN 'WETH/SNX' \n",
      "WHEN CONTRACT_ADDRESS = '0x85ff5b70de43fee34f3fa632addd9f76a0f6baa9' THEN 'SNX/sUSD' \n",
      "WHEN CONTRACT_ADDRESS = '0x986d353a3700530be4e75794830f57e657bc68cb' THEN 'FRAX/OP' \n",
      "WHEN CONTRACT_ADDRESS = '0xfdad8f85c0f3895c85301f549d124ce526479bf8' THEN 'WBTC/renBTC' \n",
      "WHEN CONTRACT_ADDRESS = '0x06141423dcf1a5a4c137039063ac873cdc1e363a' THEN 'VELO/WETH' \n",
      "WHEN CONTRACT_ADDRESS = '0x4c8b195d33c6f95a8262d56ede793611ee7b5aad' THEN 'WBTC/USDC' \n",
      "WHEN CONTRACT_ADDRESS = '0xe8633ce5d216ebfdddf6875067dfb8397dedcaf3' THEN 'OP/USDC' \n",
      "WHEN CONTRACT_ADDRESS = '0x335bd4ffa921160fc86ce3843f80a9941e7456c6' THEN 'VELO/USDC' \n",
      "WHEN CONTRACT_ADDRESS = '0xe47d437252fe9cb5e74396eee63360d8647df25d' THEN 'LYRA/sUSD' \n",
      "WHEN CONTRACT_ADDRESS = '0x93fc04cd6d108588ecd844c7d60f46635037b5a3' THEN 'USDC/sUSD' \n",
      "WHEN CONTRACT_ADDRESS = '0xfc77e39De40E54F820E313039207DC850E4C9E60' THEN 'OP/L2DAO' \n",
      "WHEN CONTRACT_ADDRESS = '0x53bea2d15efe344b054e73209455d2b6aa1c9462' THEN 'OP/sUSD' \n"
     ]
    }
   ],
   "source": [
    "#GENERATE Query\n",
    "for address,name in pools_velo.items():\n",
    "    print(\"\"\"WHEN CONTRACT_ADDRESS = '{}' THEN '{}' \"\"\".format(address,name.split('- ')[1]))"
   ]
  },
  {
   "cell_type": "markdown",
   "metadata": {},
   "source": [
    "### Uniswap's LPs"
   ]
  },
  {
   "cell_type": "code",
   "execution_count": 6,
   "metadata": {},
   "outputs": [],
   "source": [
    "pools_uni ={   '0x68F5C0A2DE713a54991E01858Fd27a3832401849': 'WETH / OP',\n",
    "    '0x85149247691df622eaF1a8Bd0CaFd40BC45154a9': 'WETH / USDC',\n",
    "    '0x100bdC1431A9b09C61c0EFC5776814285f8fB248': 'USDC / DAI',\n",
    "    '0x98D9aE198f2018503791D1cAf23c6807C135bB6b': 'FRAX / USDC',\n",
    "    '0x03aF20bDAaFfB4cC0A521796a223f7D85e2aAc31': 'WETH / DAI',\n",
    "    '0xF334F6104A179207DdaCfb41FA3567FEea8595C2': 'WETH / LYRA',\n",
    "    '0x73B14a78a0D396C521f954532d43fd5fFe385216': 'WETH / WBTC',\n",
    "    '0x535541F1aa08416e69Dc4D610131099FA2Ae7222': 'WETH / PERP',\n",
    "    '0xF3F3433c3a97F70349C138ada81da4D3554982DB': 'USDC / USDT',\n",
    "    '0x730691cDaC3Cbd4D41FC5eb9D8AbBB0cEa795B94': 'WETH / OP',\n",
    "    '0xff7fbDf7832Ae524dEdA39cA402E03D92aDFF7A5': 'THALES / WETH',\n",
    "    '0xB589969D38CE76D3d7AA319De7133bC9755fD840': 'WETH / USDC',\n",
    "    '0xAdb35413eC50E0Afe41039eaC8B930d313E94FA4': 'sUSD / DAI',\n",
    "    '0x1C3140aB59d6cAf9fa7459C6f83D4B52ba881d36': 'OP / USDC',\n",
    "    '0x0392b358CE4547601BEFa962680BedE836606ae2': 'WETH / SNX',\n",
    "    '0x819ff7911Fcc218665ECD6fAaD61730AF544b3e1': 'EST / DAI',\n",
    "    '0x8EdA97883a1Bc02Cf68C6B9fb996e06ED8fDb3e5': 'USDC / sUSD',\n",
    "    '0xc858A329Bf053BE78D6239C4A4343B8FbD21472b': 'WETH / USDT',\n",
    "    '0xAdb35413eC50E0Afe41039eaC8B930d313E94FA4': 'sUSD / DAI',\n",
    "    '0xF1F199342687A7d78bCC16fce79fa2665EF870E1': 'USDC / USDT',\n",
    "    '0x827F0A2a4376Bc26729F398b865f424dC8456841': 'USDT / DAI',\n",
    "    '0xbf16ef186e715668AA29ceF57e2fD7f9D48AdFE6': 'USDC / DAI',\n",
    "    '0x73B14a78a0D396C521f954532d43fd5fFe385216': 'WETH / WBTC',\n",
    "    '0xc858A329Bf053BE78D6239C4A4343B8FbD21472b': 'WETH / USDT',\n",
    "    '0x8323D063b1D12ACce4742f1E3ed9BC46d71f4222': 'USDT / DAI',\n",
    "    '0x85C31FFA3706d1cce9d525a00f1C7D4A2911754c': 'WETH / WBTC',\n",
    "    '0xAD4c666fC170B468B19988959eb931a3676f0e9F': 'WETH / UNI',\n",
    "    '0xdd0c6bAe8Ad5998c358b823df15A2A4181Da1b80': 'WETH / USDT',\n",
    "    '0x6168EC836D0b1f0c37381eC7eD1891a412872121': 'WBTC / USDC',\n",
    "    '0x95d9D28606ee55De7667f0F176eBfc3215CFD9C0': 'WETH / DAI',\n",
    "    '0xBD93951d2E9Ec615f9940887559B4317032d98D0': 'STG / USDC',\n",
    "    '0x6f32061f59a21086C334d0d45F804089cE374aAf': 'OP / USDC',\n",
    "    '0x381Af0787aDd5BBbFa6ff88bd1284449a486372B': 'DAI / XCHF',\n",
    "    '0x926c2AEEd9b4C10a025C3605dbC2953834bA2a8A': 'MNYe / USDC',\n",
    "    '0x19EA026886cbB7A900EcB2458636d72b5CaE223B': 'LINK / WETH',\n",
    "    '0x2E80d5A7B3C613d854EE43243Ff09808108561EB': 'WETH / sUSD',\n",
    "    '0xAEfC1edaeDE6ADaDcdF3bB344577D45A80B19582': 'WETH / rETH',\n",
    "    '0xE62bd99a9501ca33D98913105Fc2BeC5BAE6e5dD': 'WETH / KROM',\n",
    "    '0xb018e5955C561a8af0f49FAf60d587b7F8F1687B': 'THALES / USDC',\n",
    "    '0x8f477a5D632B5691A10A571575D55DC9C3D86d7C': 'WETH / rETH',\n",
    "    '0xAE2D9288Be0587C2097ec46dB7686ac2481F896E': 'OP / DAI',\n",
    "    '0x815AE7bF44DDa74ED9274377eD711eFC8B567911': 'WETH / DAI',\n",
    "    '0x5e8B0fC35065a5d980c11F96cb52381De390B13f': 'WETH / AELIN',\n",
    "    '0x94ad9A19126ebb02Dda874237E5820fD4943f5dE': 'WETH / USDC'  \n",
    "    \n",
    "}"
   ]
  },
  {
   "cell_type": "code",
   "execution_count": 12,
   "metadata": {},
   "outputs": [
    {
     "name": "stdout",
     "output_type": "stream",
     "text": [
      "WHEN CONTRACT_ADDRESS = '0x68F5C0A2DE713a54991E01858Fd27a3832401849' THEN 'WETH/OP' \n",
      "WHEN CONTRACT_ADDRESS = '0x85149247691df622eaF1a8Bd0CaFd40BC45154a9' THEN 'WETH/USDC' \n",
      "WHEN CONTRACT_ADDRESS = '0x100bdC1431A9b09C61c0EFC5776814285f8fB248' THEN 'USDC/DAI' \n",
      "WHEN CONTRACT_ADDRESS = '0x98D9aE198f2018503791D1cAf23c6807C135bB6b' THEN 'FRAX/USDC' \n",
      "WHEN CONTRACT_ADDRESS = '0x03aF20bDAaFfB4cC0A521796a223f7D85e2aAc31' THEN 'WETH/DAI' \n",
      "WHEN CONTRACT_ADDRESS = '0xF334F6104A179207DdaCfb41FA3567FEea8595C2' THEN 'WETH/LYRA' \n",
      "WHEN CONTRACT_ADDRESS = '0x73B14a78a0D396C521f954532d43fd5fFe385216' THEN 'WETH/WBTC' \n",
      "WHEN CONTRACT_ADDRESS = '0x535541F1aa08416e69Dc4D610131099FA2Ae7222' THEN 'WETH/PERP' \n",
      "WHEN CONTRACT_ADDRESS = '0xF3F3433c3a97F70349C138ada81da4D3554982DB' THEN 'USDC/USDT' \n",
      "WHEN CONTRACT_ADDRESS = '0x730691cDaC3Cbd4D41FC5eb9D8AbBB0cEa795B94' THEN 'WETH/OP' \n",
      "WHEN CONTRACT_ADDRESS = '0xff7fbDf7832Ae524dEdA39cA402E03D92aDFF7A5' THEN 'THALES/WETH' \n",
      "WHEN CONTRACT_ADDRESS = '0xB589969D38CE76D3d7AA319De7133bC9755fD840' THEN 'WETH/USDC' \n",
      "WHEN CONTRACT_ADDRESS = '0xAdb35413eC50E0Afe41039eaC8B930d313E94FA4' THEN 'sUSD/DAI' \n",
      "WHEN CONTRACT_ADDRESS = '0x1C3140aB59d6cAf9fa7459C6f83D4B52ba881d36' THEN 'OP/USDC' \n",
      "WHEN CONTRACT_ADDRESS = '0x0392b358CE4547601BEFa962680BedE836606ae2' THEN 'WETH/SNX' \n",
      "WHEN CONTRACT_ADDRESS = '0x819ff7911Fcc218665ECD6fAaD61730AF544b3e1' THEN 'EST/DAI' \n",
      "WHEN CONTRACT_ADDRESS = '0x8EdA97883a1Bc02Cf68C6B9fb996e06ED8fDb3e5' THEN 'USDC/sUSD' \n",
      "WHEN CONTRACT_ADDRESS = '0xc858A329Bf053BE78D6239C4A4343B8FbD21472b' THEN 'WETH/USDT' \n",
      "WHEN CONTRACT_ADDRESS = '0xF1F199342687A7d78bCC16fce79fa2665EF870E1' THEN 'USDC/USDT' \n",
      "WHEN CONTRACT_ADDRESS = '0x827F0A2a4376Bc26729F398b865f424dC8456841' THEN 'USDT/DAI' \n",
      "WHEN CONTRACT_ADDRESS = '0xbf16ef186e715668AA29ceF57e2fD7f9D48AdFE6' THEN 'USDC/DAI' \n",
      "WHEN CONTRACT_ADDRESS = '0x8323D063b1D12ACce4742f1E3ed9BC46d71f4222' THEN 'USDT/DAI' \n",
      "WHEN CONTRACT_ADDRESS = '0x85C31FFA3706d1cce9d525a00f1C7D4A2911754c' THEN 'WETH/WBTC' \n",
      "WHEN CONTRACT_ADDRESS = '0xAD4c666fC170B468B19988959eb931a3676f0e9F' THEN 'WETH/UNI' \n",
      "WHEN CONTRACT_ADDRESS = '0xdd0c6bAe8Ad5998c358b823df15A2A4181Da1b80' THEN 'WETH/USDT' \n",
      "WHEN CONTRACT_ADDRESS = '0x6168EC836D0b1f0c37381eC7eD1891a412872121' THEN 'WBTC/USDC' \n",
      "WHEN CONTRACT_ADDRESS = '0x95d9D28606ee55De7667f0F176eBfc3215CFD9C0' THEN 'WETH/DAI' \n",
      "WHEN CONTRACT_ADDRESS = '0xBD93951d2E9Ec615f9940887559B4317032d98D0' THEN 'STG/USDC' \n",
      "WHEN CONTRACT_ADDRESS = '0x6f32061f59a21086C334d0d45F804089cE374aAf' THEN 'OP/USDC' \n",
      "WHEN CONTRACT_ADDRESS = '0x381Af0787aDd5BBbFa6ff88bd1284449a486372B' THEN 'DAI/XCHF' \n",
      "WHEN CONTRACT_ADDRESS = '0x926c2AEEd9b4C10a025C3605dbC2953834bA2a8A' THEN 'MNYe/USDC' \n",
      "WHEN CONTRACT_ADDRESS = '0x19EA026886cbB7A900EcB2458636d72b5CaE223B' THEN 'LINK/WETH' \n",
      "WHEN CONTRACT_ADDRESS = '0x2E80d5A7B3C613d854EE43243Ff09808108561EB' THEN 'WETH/sUSD' \n",
      "WHEN CONTRACT_ADDRESS = '0xAEfC1edaeDE6ADaDcdF3bB344577D45A80B19582' THEN 'WETH/rETH' \n",
      "WHEN CONTRACT_ADDRESS = '0xE62bd99a9501ca33D98913105Fc2BeC5BAE6e5dD' THEN 'WETH/KROM' \n",
      "WHEN CONTRACT_ADDRESS = '0xb018e5955C561a8af0f49FAf60d587b7F8F1687B' THEN 'THALES/USDC' \n",
      "WHEN CONTRACT_ADDRESS = '0x8f477a5D632B5691A10A571575D55DC9C3D86d7C' THEN 'WETH/rETH' \n",
      "WHEN CONTRACT_ADDRESS = '0xAE2D9288Be0587C2097ec46dB7686ac2481F896E' THEN 'OP/DAI' \n",
      "WHEN CONTRACT_ADDRESS = '0x815AE7bF44DDa74ED9274377eD711eFC8B567911' THEN 'WETH/DAI' \n",
      "WHEN CONTRACT_ADDRESS = '0x5e8B0fC35065a5d980c11F96cb52381De390B13f' THEN 'WETH/AELIN' \n",
      "WHEN CONTRACT_ADDRESS = '0x94ad9A19126ebb02Dda874237E5820fD4943f5dE' THEN 'WETH/USDC' \n"
     ]
    }
   ],
   "source": [
    "# Generate Query\n",
    "#GENERATE Query\n",
    "for address,name in pools_uni.items():\n",
    "    print(\"\"\"WHEN CONTRACT_ADDRESS = '{}' THEN '{}' \"\"\".format(address,re.sub(' ', '',name)))"
   ]
  },
  {
   "cell_type": "markdown",
   "metadata": {},
   "source": [
    "###  References\n",
    "https://github.com/0xthelaughingman/Nifty-Returns-Vizualizer\n"
   ]
  },
  {
   "cell_type": "code",
   "execution_count": null,
   "metadata": {},
   "outputs": [],
   "source": []
  }
 ],
 "metadata": {
  "kernelspec": {
   "display_name": "Python 3",
   "language": "python",
   "name": "python3"
  },
  "language_info": {
   "codemirror_mode": {
    "name": "ipython",
    "version": 3
   },
   "file_extension": ".py",
   "mimetype": "text/x-python",
   "name": "python",
   "nbconvert_exporter": "python",
   "pygments_lexer": "ipython3",
   "version": "3.7.4"
  }
 },
 "nbformat": 4,
 "nbformat_minor": 2
}
